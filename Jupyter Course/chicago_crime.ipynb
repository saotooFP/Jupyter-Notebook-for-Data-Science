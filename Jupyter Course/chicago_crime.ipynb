{
 "cells": [
  {
   "cell_type": "markdown",
   "metadata": {},
   "source": [
    "# Chicago crime\n",
    "\n",
    "This dataset reflects reported incidents of crime (with the exception of murders where data exists for each victim) that occurred in the City of Chicago from 2001 to present. Source – [Chicago Data Portal](https://data.cityofchicago.org/Public-Safety/Crimes-2001-to-present-Dashboard/5cd6-ry5g)\n",
    "\n",
    "On this dataset we'll showcase some Pandas features, but for a more complete reference, please keep the [Pandas documentation](https://pandas.pydata.org/pandas-docs/stable/index.html) bookmarked."
   ]
  },
  {
   "cell_type": "code",
   "execution_count": 1,
   "metadata": {},
   "outputs": [],
   "source": [
    "%matplotlib inline\n",
    "\n",
    "import pandas as pd\n",
    "import numpy as np"
   ]
  },
  {
   "cell_type": "markdown",
   "metadata": {},
   "source": [
    "## Read the data\n",
    "\n",
    "The dataset is pretty large…"
   ]
  },
  {
   "cell_type": "code",
   "execution_count": 2,
   "metadata": {},
   "outputs": [
    {
     "name": "stdout",
     "output_type": "stream",
     "text": [
      "total 1.7G\r\n",
      "-rw-r--r-- 1 jovyan users 1.5G Apr 16 18:55 Crimes_-_2001_to_present.csv\r\n",
      "-rw-r--r-- 1 jovyan users 225M Apr 23 07:52 Crimes_-_2001_to_present-medium.csv\r\n",
      "-rw-r--r-- 1 jovyan users 2.3K Apr 23 07:52 Crimes_-_2001_to_present-small.csv\r\n"
     ]
    }
   ],
   "source": [
    "ls -hl data/chicago_crime/"
   ]
  },
  {
   "cell_type": "markdown",
   "metadata": {},
   "source": [
    "Let's see what the CSV file looks like…"
   ]
  },
  {
   "cell_type": "code",
   "execution_count": 3,
   "metadata": {},
   "outputs": [
    {
     "name": "stdout",
     "output_type": "stream",
     "text": [
      "ID,Case Number,Date,Block,IUCR,Primary Type,Description,Location Description,Arrest,Domestic,Beat,District,Ward,Community Area,FBI Code,X Coordinate,Y Coordinate,Year,Updated On,Latitude,Longitude,Location\n",
      "\n",
      "10000092,HY189866,03/18/2015 07:44:00 PM,047XX W OHIO ST,041A,BATTERY,AGGRAVATED: HANDGUN,STREET,false,false,1111,011,28,25,04B,1144606,1903566,2015,02/10/2018 03:50:01 PM,41.891398861,-87.744384567,\"(41.891398861, -87.744384567)\"\n"
     ]
    }
   ],
   "source": [
    "# Python variables work with bash commands \\o/\n",
    "file_path = 'data/chicago_crime/Crimes_-_2001_to_present.csv'\n",
    "\n",
    "# first line\n",
    "!head $file_path -n 1\n",
    "\n",
    "!echo\n",
    "\n",
    "# second line\n",
    "!head $file_path -n 2 | tail -n 1"
   ]
  },
  {
   "cell_type": "markdown",
   "metadata": {},
   "source": [
    "As the file size is pretty big, let's first create a subset to iterate more quickly."
   ]
  },
  {
   "cell_type": "code",
   "execution_count": 4,
   "metadata": {},
   "outputs": [],
   "source": [
    "file_path_small = 'data/chicago_crime/Crimes_-_2001_to_present-small.csv'\n",
    "\n",
    "!head $file_path > $file_path_small"
   ]
  },
  {
   "cell_type": "markdown",
   "metadata": {},
   "source": [
    "Use the allmighty `pd.read_csv` function"
   ]
  },
  {
   "cell_type": "code",
   "execution_count": 5,
   "metadata": {},
   "outputs": [
    {
     "data": {
      "text/html": [
       "<div>\n",
       "<table border=\"1\" class=\"dataframe\">\n",
       "  <thead>\n",
       "    <tr style=\"text-align: right;\">\n",
       "      <th></th>\n",
       "      <th>ID</th>\n",
       "      <th>Case Number</th>\n",
       "      <th>Block</th>\n",
       "      <th>IUCR</th>\n",
       "      <th>Primary Type</th>\n",
       "      <th>Description</th>\n",
       "      <th>Location Description</th>\n",
       "      <th>Arrest</th>\n",
       "      <th>Domestic</th>\n",
       "      <th>Beat</th>\n",
       "      <th>...</th>\n",
       "      <th>Ward</th>\n",
       "      <th>Community Area</th>\n",
       "      <th>FBI Code</th>\n",
       "      <th>X Coordinate</th>\n",
       "      <th>Y Coordinate</th>\n",
       "      <th>Year</th>\n",
       "      <th>Updated On</th>\n",
       "      <th>Latitude</th>\n",
       "      <th>Longitude</th>\n",
       "      <th>Location</th>\n",
       "    </tr>\n",
       "    <tr>\n",
       "      <th>Date</th>\n",
       "      <th></th>\n",
       "      <th></th>\n",
       "      <th></th>\n",
       "      <th></th>\n",
       "      <th></th>\n",
       "      <th></th>\n",
       "      <th></th>\n",
       "      <th></th>\n",
       "      <th></th>\n",
       "      <th></th>\n",
       "      <th></th>\n",
       "      <th></th>\n",
       "      <th></th>\n",
       "      <th></th>\n",
       "      <th></th>\n",
       "      <th></th>\n",
       "      <th></th>\n",
       "      <th></th>\n",
       "      <th></th>\n",
       "      <th></th>\n",
       "      <th></th>\n",
       "    </tr>\n",
       "  </thead>\n",
       "  <tbody>\n",
       "    <tr>\n",
       "      <th>2015-03-18 19:44:00</th>\n",
       "      <td>10000092</td>\n",
       "      <td>HY189866</td>\n",
       "      <td>047XX W OHIO ST</td>\n",
       "      <td>041A</td>\n",
       "      <td>BATTERY</td>\n",
       "      <td>AGGRAVATED: HANDGUN</td>\n",
       "      <td>STREET</td>\n",
       "      <td>False</td>\n",
       "      <td>False</td>\n",
       "      <td>1111</td>\n",
       "      <td>...</td>\n",
       "      <td>28</td>\n",
       "      <td>25</td>\n",
       "      <td>04B</td>\n",
       "      <td>1144606</td>\n",
       "      <td>1903566</td>\n",
       "      <td>2015</td>\n",
       "      <td>02/10/2018 03:50:01 PM</td>\n",
       "      <td>41.891399</td>\n",
       "      <td>-87.744385</td>\n",
       "      <td>(41.891398861, -87.744384567)</td>\n",
       "    </tr>\n",
       "    <tr>\n",
       "      <th>2015-03-18 23:00:00</th>\n",
       "      <td>10000094</td>\n",
       "      <td>HY190059</td>\n",
       "      <td>066XX S MARSHFIELD AVE</td>\n",
       "      <td>4625</td>\n",
       "      <td>OTHER OFFENSE</td>\n",
       "      <td>PAROLE VIOLATION</td>\n",
       "      <td>STREET</td>\n",
       "      <td>True</td>\n",
       "      <td>False</td>\n",
       "      <td>725</td>\n",
       "      <td>...</td>\n",
       "      <td>15</td>\n",
       "      <td>67</td>\n",
       "      <td>26</td>\n",
       "      <td>1166468</td>\n",
       "      <td>1860715</td>\n",
       "      <td>2015</td>\n",
       "      <td>02/10/2018 03:50:01 PM</td>\n",
       "      <td>41.773372</td>\n",
       "      <td>-87.665319</td>\n",
       "      <td>(41.773371528, -87.665319468)</td>\n",
       "    </tr>\n",
       "    <tr>\n",
       "      <th>2015-03-18 22:45:00</th>\n",
       "      <td>10000095</td>\n",
       "      <td>HY190052</td>\n",
       "      <td>044XX S LAKE PARK AVE</td>\n",
       "      <td>0486</td>\n",
       "      <td>BATTERY</td>\n",
       "      <td>DOMESTIC BATTERY SIMPLE</td>\n",
       "      <td>APARTMENT</td>\n",
       "      <td>False</td>\n",
       "      <td>True</td>\n",
       "      <td>222</td>\n",
       "      <td>...</td>\n",
       "      <td>4</td>\n",
       "      <td>39</td>\n",
       "      <td>08B</td>\n",
       "      <td>1185075</td>\n",
       "      <td>1875622</td>\n",
       "      <td>2015</td>\n",
       "      <td>02/10/2018 03:50:01 PM</td>\n",
       "      <td>41.813861</td>\n",
       "      <td>-87.596643</td>\n",
       "      <td>(41.81386068, -87.596642837)</td>\n",
       "    </tr>\n",
       "    <tr>\n",
       "      <th>2015-03-18 22:30:00</th>\n",
       "      <td>10000096</td>\n",
       "      <td>HY190054</td>\n",
       "      <td>051XX S MICHIGAN AVE</td>\n",
       "      <td>0460</td>\n",
       "      <td>BATTERY</td>\n",
       "      <td>SIMPLE</td>\n",
       "      <td>APARTMENT</td>\n",
       "      <td>False</td>\n",
       "      <td>False</td>\n",
       "      <td>225</td>\n",
       "      <td>...</td>\n",
       "      <td>3</td>\n",
       "      <td>40</td>\n",
       "      <td>08B</td>\n",
       "      <td>1178033</td>\n",
       "      <td>1870804</td>\n",
       "      <td>2015</td>\n",
       "      <td>02/10/2018 03:50:01 PM</td>\n",
       "      <td>41.800802</td>\n",
       "      <td>-87.622619</td>\n",
       "      <td>(41.800802415, -87.622619343)</td>\n",
       "    </tr>\n",
       "    <tr>\n",
       "      <th>2015-03-18 21:00:00</th>\n",
       "      <td>10000097</td>\n",
       "      <td>HY189976</td>\n",
       "      <td>047XX W ADAMS ST</td>\n",
       "      <td>031A</td>\n",
       "      <td>ROBBERY</td>\n",
       "      <td>ARMED: HANDGUN</td>\n",
       "      <td>SIDEWALK</td>\n",
       "      <td>False</td>\n",
       "      <td>False</td>\n",
       "      <td>1113</td>\n",
       "      <td>...</td>\n",
       "      <td>28</td>\n",
       "      <td>25</td>\n",
       "      <td>03</td>\n",
       "      <td>1144920</td>\n",
       "      <td>1898709</td>\n",
       "      <td>2015</td>\n",
       "      <td>02/10/2018 03:50:01 PM</td>\n",
       "      <td>41.878065</td>\n",
       "      <td>-87.743354</td>\n",
       "      <td>(41.878064761, -87.743354013)</td>\n",
       "    </tr>\n",
       "    <tr>\n",
       "      <th>2015-03-18 22:00:00</th>\n",
       "      <td>10000098</td>\n",
       "      <td>HY190032</td>\n",
       "      <td>049XX S DREXEL BLVD</td>\n",
       "      <td>0460</td>\n",
       "      <td>BATTERY</td>\n",
       "      <td>SIMPLE</td>\n",
       "      <td>APARTMENT</td>\n",
       "      <td>False</td>\n",
       "      <td>False</td>\n",
       "      <td>223</td>\n",
       "      <td>...</td>\n",
       "      <td>4</td>\n",
       "      <td>39</td>\n",
       "      <td>08B</td>\n",
       "      <td>1183018</td>\n",
       "      <td>1872537</td>\n",
       "      <td>2015</td>\n",
       "      <td>02/10/2018 03:50:01 PM</td>\n",
       "      <td>41.805443</td>\n",
       "      <td>-87.604284</td>\n",
       "      <td>(41.805443345, -87.604283976)</td>\n",
       "    </tr>\n",
       "    <tr>\n",
       "      <th>2015-03-18 23:00:00</th>\n",
       "      <td>10000099</td>\n",
       "      <td>HY190047</td>\n",
       "      <td>070XX S MORGAN ST</td>\n",
       "      <td>0486</td>\n",
       "      <td>BATTERY</td>\n",
       "      <td>DOMESTIC BATTERY SIMPLE</td>\n",
       "      <td>APARTMENT</td>\n",
       "      <td>False</td>\n",
       "      <td>True</td>\n",
       "      <td>733</td>\n",
       "      <td>...</td>\n",
       "      <td>17</td>\n",
       "      <td>68</td>\n",
       "      <td>08B</td>\n",
       "      <td>1170859</td>\n",
       "      <td>1858210</td>\n",
       "      <td>2015</td>\n",
       "      <td>02/10/2018 03:50:01 PM</td>\n",
       "      <td>41.766403</td>\n",
       "      <td>-87.649296</td>\n",
       "      <td>(41.766402779, -87.649296123)</td>\n",
       "    </tr>\n",
       "    <tr>\n",
       "      <th>2015-03-18 21:35:00</th>\n",
       "      <td>10000100</td>\n",
       "      <td>HY189988</td>\n",
       "      <td>042XX S PRAIRIE AVE</td>\n",
       "      <td>0486</td>\n",
       "      <td>BATTERY</td>\n",
       "      <td>DOMESTIC BATTERY SIMPLE</td>\n",
       "      <td>APARTMENT</td>\n",
       "      <td>False</td>\n",
       "      <td>True</td>\n",
       "      <td>213</td>\n",
       "      <td>...</td>\n",
       "      <td>3</td>\n",
       "      <td>38</td>\n",
       "      <td>08B</td>\n",
       "      <td>1178746</td>\n",
       "      <td>1876914</td>\n",
       "      <td>2015</td>\n",
       "      <td>02/10/2018 03:50:01 PM</td>\n",
       "      <td>41.817553</td>\n",
       "      <td>-87.619819</td>\n",
       "      <td>(41.817552577, -87.619818523)</td>\n",
       "    </tr>\n",
       "    <tr>\n",
       "      <th>2015-03-18 22:09:00</th>\n",
       "      <td>10000101</td>\n",
       "      <td>HY190020</td>\n",
       "      <td>036XX S WOLCOTT AVE</td>\n",
       "      <td>1811</td>\n",
       "      <td>NARCOTICS</td>\n",
       "      <td>POSS: CANNABIS 30GMS OR LESS</td>\n",
       "      <td>STREET</td>\n",
       "      <td>True</td>\n",
       "      <td>False</td>\n",
       "      <td>912</td>\n",
       "      <td>...</td>\n",
       "      <td>11</td>\n",
       "      <td>59</td>\n",
       "      <td>18</td>\n",
       "      <td>1164279</td>\n",
       "      <td>1880656</td>\n",
       "      <td>2015</td>\n",
       "      <td>02/10/2018 03:50:01 PM</td>\n",
       "      <td>41.828138</td>\n",
       "      <td>-87.672782</td>\n",
       "      <td>(41.828138428, -87.672782106)</td>\n",
       "    </tr>\n",
       "  </tbody>\n",
       "</table>\n",
       "<p>9 rows × 21 columns</p>\n",
       "</div>"
      ],
      "text/plain": [
       "                           ID Case Number                   Block  IUCR  \\\n",
       "Date                                                                      \n",
       "2015-03-18 19:44:00  10000092    HY189866         047XX W OHIO ST  041A   \n",
       "2015-03-18 23:00:00  10000094    HY190059  066XX S MARSHFIELD AVE  4625   \n",
       "2015-03-18 22:45:00  10000095    HY190052   044XX S LAKE PARK AVE  0486   \n",
       "2015-03-18 22:30:00  10000096    HY190054    051XX S MICHIGAN AVE  0460   \n",
       "2015-03-18 21:00:00  10000097    HY189976        047XX W ADAMS ST  031A   \n",
       "2015-03-18 22:00:00  10000098    HY190032     049XX S DREXEL BLVD  0460   \n",
       "2015-03-18 23:00:00  10000099    HY190047       070XX S MORGAN ST  0486   \n",
       "2015-03-18 21:35:00  10000100    HY189988     042XX S PRAIRIE AVE  0486   \n",
       "2015-03-18 22:09:00  10000101    HY190020     036XX S WOLCOTT AVE  1811   \n",
       "\n",
       "                      Primary Type                   Description  \\\n",
       "Date                                                               \n",
       "2015-03-18 19:44:00        BATTERY           AGGRAVATED: HANDGUN   \n",
       "2015-03-18 23:00:00  OTHER OFFENSE              PAROLE VIOLATION   \n",
       "2015-03-18 22:45:00        BATTERY       DOMESTIC BATTERY SIMPLE   \n",
       "2015-03-18 22:30:00        BATTERY                        SIMPLE   \n",
       "2015-03-18 21:00:00        ROBBERY                ARMED: HANDGUN   \n",
       "2015-03-18 22:00:00        BATTERY                        SIMPLE   \n",
       "2015-03-18 23:00:00        BATTERY       DOMESTIC BATTERY SIMPLE   \n",
       "2015-03-18 21:35:00        BATTERY       DOMESTIC BATTERY SIMPLE   \n",
       "2015-03-18 22:09:00      NARCOTICS  POSS: CANNABIS 30GMS OR LESS   \n",
       "\n",
       "                    Location Description Arrest Domestic  Beat  \\\n",
       "Date                                                             \n",
       "2015-03-18 19:44:00               STREET  False    False  1111   \n",
       "2015-03-18 23:00:00               STREET   True    False   725   \n",
       "2015-03-18 22:45:00            APARTMENT  False     True   222   \n",
       "2015-03-18 22:30:00            APARTMENT  False    False   225   \n",
       "2015-03-18 21:00:00             SIDEWALK  False    False  1113   \n",
       "2015-03-18 22:00:00            APARTMENT  False    False   223   \n",
       "2015-03-18 23:00:00            APARTMENT  False     True   733   \n",
       "2015-03-18 21:35:00            APARTMENT  False     True   213   \n",
       "2015-03-18 22:09:00               STREET   True    False   912   \n",
       "\n",
       "                                 ...                Ward  Community Area  \\\n",
       "Date                             ...                                       \n",
       "2015-03-18 19:44:00              ...                  28              25   \n",
       "2015-03-18 23:00:00              ...                  15              67   \n",
       "2015-03-18 22:45:00              ...                   4              39   \n",
       "2015-03-18 22:30:00              ...                   3              40   \n",
       "2015-03-18 21:00:00              ...                  28              25   \n",
       "2015-03-18 22:00:00              ...                   4              39   \n",
       "2015-03-18 23:00:00              ...                  17              68   \n",
       "2015-03-18 21:35:00              ...                   3              38   \n",
       "2015-03-18 22:09:00              ...                  11              59   \n",
       "\n",
       "                     FBI Code X Coordinate  Y Coordinate  Year  \\\n",
       "Date                                                             \n",
       "2015-03-18 19:44:00       04B      1144606       1903566  2015   \n",
       "2015-03-18 23:00:00        26      1166468       1860715  2015   \n",
       "2015-03-18 22:45:00       08B      1185075       1875622  2015   \n",
       "2015-03-18 22:30:00       08B      1178033       1870804  2015   \n",
       "2015-03-18 21:00:00        03      1144920       1898709  2015   \n",
       "2015-03-18 22:00:00       08B      1183018       1872537  2015   \n",
       "2015-03-18 23:00:00       08B      1170859       1858210  2015   \n",
       "2015-03-18 21:35:00       08B      1178746       1876914  2015   \n",
       "2015-03-18 22:09:00        18      1164279       1880656  2015   \n",
       "\n",
       "                                 Updated On   Latitude  Longitude  \\\n",
       "Date                                                                \n",
       "2015-03-18 19:44:00  02/10/2018 03:50:01 PM  41.891399 -87.744385   \n",
       "2015-03-18 23:00:00  02/10/2018 03:50:01 PM  41.773372 -87.665319   \n",
       "2015-03-18 22:45:00  02/10/2018 03:50:01 PM  41.813861 -87.596643   \n",
       "2015-03-18 22:30:00  02/10/2018 03:50:01 PM  41.800802 -87.622619   \n",
       "2015-03-18 21:00:00  02/10/2018 03:50:01 PM  41.878065 -87.743354   \n",
       "2015-03-18 22:00:00  02/10/2018 03:50:01 PM  41.805443 -87.604284   \n",
       "2015-03-18 23:00:00  02/10/2018 03:50:01 PM  41.766403 -87.649296   \n",
       "2015-03-18 21:35:00  02/10/2018 03:50:01 PM  41.817553 -87.619819   \n",
       "2015-03-18 22:09:00  02/10/2018 03:50:01 PM  41.828138 -87.672782   \n",
       "\n",
       "                                          Location  \n",
       "Date                                                \n",
       "2015-03-18 19:44:00  (41.891398861, -87.744384567)  \n",
       "2015-03-18 23:00:00  (41.773371528, -87.665319468)  \n",
       "2015-03-18 22:45:00   (41.81386068, -87.596642837)  \n",
       "2015-03-18 22:30:00  (41.800802415, -87.622619343)  \n",
       "2015-03-18 21:00:00  (41.878064761, -87.743354013)  \n",
       "2015-03-18 22:00:00  (41.805443345, -87.604283976)  \n",
       "2015-03-18 23:00:00  (41.766402779, -87.649296123)  \n",
       "2015-03-18 21:35:00  (41.817552577, -87.619818523)  \n",
       "2015-03-18 22:09:00  (41.828138428, -87.672782106)  \n",
       "\n",
       "[9 rows x 21 columns]"
      ]
     },
     "execution_count": 5,
     "metadata": {},
     "output_type": "execute_result"
    }
   ],
   "source": [
    "crimes_small = pd.read_csv(file_path_small, parse_dates=[2], index_col=[2])\n",
    "crimes_small"
   ]
  },
  {
   "cell_type": "markdown",
   "metadata": {},
   "source": [
    "Excellent! Now let's run this on the big file…"
   ]
  },
  {
   "cell_type": "code",
   "execution_count": 6,
   "metadata": {},
   "outputs": [
    {
     "data": {
      "text/html": [
       "<div>\n",
       "<table border=\"1\" class=\"dataframe\">\n",
       "  <thead>\n",
       "    <tr style=\"text-align: right;\">\n",
       "      <th></th>\n",
       "      <th>ID</th>\n",
       "      <th>Case Number</th>\n",
       "      <th>Block</th>\n",
       "      <th>IUCR</th>\n",
       "      <th>Primary Type</th>\n",
       "      <th>Description</th>\n",
       "      <th>Location Description</th>\n",
       "      <th>Arrest</th>\n",
       "      <th>Domestic</th>\n",
       "      <th>Beat</th>\n",
       "      <th>...</th>\n",
       "      <th>Ward</th>\n",
       "      <th>Community Area</th>\n",
       "      <th>FBI Code</th>\n",
       "      <th>X Coordinate</th>\n",
       "      <th>Y Coordinate</th>\n",
       "      <th>Year</th>\n",
       "      <th>Updated On</th>\n",
       "      <th>Latitude</th>\n",
       "      <th>Longitude</th>\n",
       "      <th>Location</th>\n",
       "    </tr>\n",
       "    <tr>\n",
       "      <th>Date</th>\n",
       "      <th></th>\n",
       "      <th></th>\n",
       "      <th></th>\n",
       "      <th></th>\n",
       "      <th></th>\n",
       "      <th></th>\n",
       "      <th></th>\n",
       "      <th></th>\n",
       "      <th></th>\n",
       "      <th></th>\n",
       "      <th></th>\n",
       "      <th></th>\n",
       "      <th></th>\n",
       "      <th></th>\n",
       "      <th></th>\n",
       "      <th></th>\n",
       "      <th></th>\n",
       "      <th></th>\n",
       "      <th></th>\n",
       "      <th></th>\n",
       "      <th></th>\n",
       "    </tr>\n",
       "  </thead>\n",
       "  <tbody>\n",
       "    <tr>\n",
       "      <th>2004-05-05 21:00:00</th>\n",
       "      <td>3310033</td>\n",
       "      <td>HK345878</td>\n",
       "      <td>038XX W ARGYLE ST</td>\n",
       "      <td>1320</td>\n",
       "      <td>CRIMINAL DAMAGE</td>\n",
       "      <td>TO VEHICLE</td>\n",
       "      <td>STREET</td>\n",
       "      <td>False</td>\n",
       "      <td>False</td>\n",
       "      <td>1712</td>\n",
       "      <td>...</td>\n",
       "      <td>39.0</td>\n",
       "      <td>14.0</td>\n",
       "      <td>14</td>\n",
       "      <td>1150069.0</td>\n",
       "      <td>1932953.0</td>\n",
       "      <td>2004</td>\n",
       "      <td>02/10/2018 03:50:01 PM</td>\n",
       "      <td>41.971935</td>\n",
       "      <td>-87.723554</td>\n",
       "      <td>(41.971934656, -87.723553785)</td>\n",
       "    </tr>\n",
       "    <tr>\n",
       "      <th>2004-04-30 08:10:00</th>\n",
       "      <td>3310034</td>\n",
       "      <td>HK333841</td>\n",
       "      <td>003XX E 43RD ST</td>\n",
       "      <td>031A</td>\n",
       "      <td>ROBBERY</td>\n",
       "      <td>ARMED: HANDGUN</td>\n",
       "      <td>STREET</td>\n",
       "      <td>False</td>\n",
       "      <td>False</td>\n",
       "      <td>222</td>\n",
       "      <td>...</td>\n",
       "      <td>3.0</td>\n",
       "      <td>38.0</td>\n",
       "      <td>03</td>\n",
       "      <td>1178941.0</td>\n",
       "      <td>1876568.0</td>\n",
       "      <td>2004</td>\n",
       "      <td>02/10/2018 03:50:01 PM</td>\n",
       "      <td>41.816599</td>\n",
       "      <td>-87.619114</td>\n",
       "      <td>(41.816598679, -87.619113763)</td>\n",
       "    </tr>\n",
       "    <tr>\n",
       "      <th>2004-05-06 04:53:00</th>\n",
       "      <td>3310037</td>\n",
       "      <td>HK345694</td>\n",
       "      <td>026XX N HOYNE AVE</td>\n",
       "      <td>1320</td>\n",
       "      <td>CRIMINAL DAMAGE</td>\n",
       "      <td>TO VEHICLE</td>\n",
       "      <td>VEHICLE NON-COMMERCIAL</td>\n",
       "      <td>False</td>\n",
       "      <td>False</td>\n",
       "      <td>1913</td>\n",
       "      <td>...</td>\n",
       "      <td>1.0</td>\n",
       "      <td>7.0</td>\n",
       "      <td>14</td>\n",
       "      <td>1162363.0</td>\n",
       "      <td>1917641.0</td>\n",
       "      <td>2004</td>\n",
       "      <td>02/10/2018 03:50:01 PM</td>\n",
       "      <td>41.929669</td>\n",
       "      <td>-87.678777</td>\n",
       "      <td>(41.929668705, -87.678776837)</td>\n",
       "    </tr>\n",
       "    <tr>\n",
       "      <th>2004-05-05 16:20:00</th>\n",
       "      <td>3310040</td>\n",
       "      <td>HK344741</td>\n",
       "      <td>049XX S HERMITAGE AVE</td>\n",
       "      <td>0460</td>\n",
       "      <td>BATTERY</td>\n",
       "      <td>SIMPLE</td>\n",
       "      <td>APARTMENT</td>\n",
       "      <td>False</td>\n",
       "      <td>False</td>\n",
       "      <td>931</td>\n",
       "      <td>...</td>\n",
       "      <td>16.0</td>\n",
       "      <td>61.0</td>\n",
       "      <td>08B</td>\n",
       "      <td>1165514.0</td>\n",
       "      <td>1871908.0</td>\n",
       "      <td>2004</td>\n",
       "      <td>02/10/2018 03:50:01 PM</td>\n",
       "      <td>41.804107</td>\n",
       "      <td>-87.668499</td>\n",
       "      <td>(41.804106795, -87.668499335)</td>\n",
       "    </tr>\n",
       "    <tr>\n",
       "      <th>2004-05-05 22:00:00</th>\n",
       "      <td>3310059</td>\n",
       "      <td>HK345897</td>\n",
       "      <td>071XX S HALSTED ST</td>\n",
       "      <td>0810</td>\n",
       "      <td>THEFT</td>\n",
       "      <td>OVER $500</td>\n",
       "      <td>ALLEY</td>\n",
       "      <td>False</td>\n",
       "      <td>False</td>\n",
       "      <td>732</td>\n",
       "      <td>...</td>\n",
       "      <td>6.0</td>\n",
       "      <td>68.0</td>\n",
       "      <td>06</td>\n",
       "      <td>1172199.0</td>\n",
       "      <td>1857618.0</td>\n",
       "      <td>2004</td>\n",
       "      <td>02/10/2018 03:50:01 PM</td>\n",
       "      <td>41.764749</td>\n",
       "      <td>-87.644402</td>\n",
       "      <td>(41.764748911, -87.644401916)</td>\n",
       "    </tr>\n",
       "  </tbody>\n",
       "</table>\n",
       "<p>5 rows × 21 columns</p>\n",
       "</div>"
      ],
      "text/plain": [
       "                          ID Case Number                  Block  IUCR  \\\n",
       "Date                                                                    \n",
       "2004-05-05 21:00:00  3310033    HK345878      038XX W ARGYLE ST  1320   \n",
       "2004-04-30 08:10:00  3310034    HK333841        003XX E 43RD ST  031A   \n",
       "2004-05-06 04:53:00  3310037    HK345694      026XX N HOYNE AVE  1320   \n",
       "2004-05-05 16:20:00  3310040    HK344741  049XX S HERMITAGE AVE  0460   \n",
       "2004-05-05 22:00:00  3310059    HK345897     071XX S HALSTED ST  0810   \n",
       "\n",
       "                        Primary Type     Description    Location Description  \\\n",
       "Date                                                                           \n",
       "2004-05-05 21:00:00  CRIMINAL DAMAGE      TO VEHICLE                  STREET   \n",
       "2004-04-30 08:10:00          ROBBERY  ARMED: HANDGUN                  STREET   \n",
       "2004-05-06 04:53:00  CRIMINAL DAMAGE      TO VEHICLE  VEHICLE NON-COMMERCIAL   \n",
       "2004-05-05 16:20:00          BATTERY          SIMPLE               APARTMENT   \n",
       "2004-05-05 22:00:00            THEFT       OVER $500                   ALLEY   \n",
       "\n",
       "                    Arrest Domestic  Beat              ...                \\\n",
       "Date                                                   ...                 \n",
       "2004-05-05 21:00:00  False    False  1712              ...                 \n",
       "2004-04-30 08:10:00  False    False   222              ...                 \n",
       "2004-05-06 04:53:00  False    False  1913              ...                 \n",
       "2004-05-05 16:20:00  False    False   931              ...                 \n",
       "2004-05-05 22:00:00  False    False   732              ...                 \n",
       "\n",
       "                     Ward  Community Area  FBI Code X Coordinate  \\\n",
       "Date                                                               \n",
       "2004-05-05 21:00:00  39.0            14.0        14    1150069.0   \n",
       "2004-04-30 08:10:00   3.0            38.0        03    1178941.0   \n",
       "2004-05-06 04:53:00   1.0             7.0        14    1162363.0   \n",
       "2004-05-05 16:20:00  16.0            61.0       08B    1165514.0   \n",
       "2004-05-05 22:00:00   6.0            68.0        06    1172199.0   \n",
       "\n",
       "                     Y Coordinate  Year              Updated On   Latitude  \\\n",
       "Date                                                                         \n",
       "2004-05-05 21:00:00     1932953.0  2004  02/10/2018 03:50:01 PM  41.971935   \n",
       "2004-04-30 08:10:00     1876568.0  2004  02/10/2018 03:50:01 PM  41.816599   \n",
       "2004-05-06 04:53:00     1917641.0  2004  02/10/2018 03:50:01 PM  41.929669   \n",
       "2004-05-05 16:20:00     1871908.0  2004  02/10/2018 03:50:01 PM  41.804107   \n",
       "2004-05-05 22:00:00     1857618.0  2004  02/10/2018 03:50:01 PM  41.764749   \n",
       "\n",
       "                     Longitude                       Location  \n",
       "Date                                                           \n",
       "2004-05-05 21:00:00 -87.723554  (41.971934656, -87.723553785)  \n",
       "2004-04-30 08:10:00 -87.619114  (41.816598679, -87.619113763)  \n",
       "2004-05-06 04:53:00 -87.678777  (41.929668705, -87.678776837)  \n",
       "2004-05-05 16:20:00 -87.668499  (41.804106795, -87.668499335)  \n",
       "2004-05-05 22:00:00 -87.644402  (41.764748911, -87.644401916)  \n",
       "\n",
       "[5 rows x 21 columns]"
      ]
     },
     "execution_count": 6,
     "metadata": {},
     "output_type": "execute_result"
    }
   ],
   "source": [
    "file_path_medium = 'data/chicago_crime/Crimes_-_2001_to_present-medium.csv'\n",
    "\n",
    "!head $file_path -n 1000001 > $file_path_medium\n",
    "\n",
    "crimes = pd.read_csv(file_path_medium, parse_dates=[2], index_col=[2])\n",
    "crimes.tail()"
   ]
  },
  {
   "cell_type": "code",
   "execution_count": 7,
   "metadata": {},
   "outputs": [
    {
     "data": {
      "text/plain": [
       "DatetimeIndex(['2015-03-18 19:44:00', '2015-03-18 23:00:00',\n",
       "               '2015-03-18 22:45:00', '2015-03-18 22:30:00',\n",
       "               '2015-03-18 21:00:00', '2015-03-18 22:00:00',\n",
       "               '2015-03-18 23:00:00', '2015-03-18 21:35:00',\n",
       "               '2015-03-18 22:09:00', '2015-03-18 21:25:00',\n",
       "               ...\n",
       "               '2004-05-05 17:00:00', '2004-05-05 18:00:00',\n",
       "               '2004-05-05 19:26:41', '2004-05-04 22:43:27',\n",
       "               '2004-05-05 23:55:00', '2004-05-05 21:00:00',\n",
       "               '2004-04-30 08:10:00', '2004-05-06 04:53:00',\n",
       "               '2004-05-05 16:20:00', '2004-05-05 22:00:00'],\n",
       "              dtype='datetime64[ns]', name='Date', length=1000000, freq=None)"
      ]
     },
     "execution_count": 7,
     "metadata": {},
     "output_type": "execute_result"
    }
   ],
   "source": [
    "crimes.index"
   ]
  },
  {
   "cell_type": "code",
   "execution_count": 8,
   "metadata": {},
   "outputs": [
    {
     "name": "stdout",
     "output_type": "stream",
     "text": [
      "154.4952392578125 MB\n"
     ]
    }
   ],
   "source": [
    "print(f'{crimes.memory_usage().sum() / 1024**2} MB')"
   ]
  },
  {
   "cell_type": "code",
   "execution_count": 9,
   "metadata": {},
   "outputs": [
    {
     "data": {
      "text/plain": [
       "<matplotlib.axes._subplots.AxesSubplot at 0x7f597118e400>"
      ]
     },
     "execution_count": 9,
     "metadata": {},
     "output_type": "execute_result"
    },
    {
     "data": {
      "image/png": "[encoded data removed]",
      "text/plain": [
       "<matplotlib.figure.Figure at 0x7f596d62b8d0>"
      ]
     },
     "metadata": {},
     "output_type": "display_data"
    }
   ],
   "source": [
    "daily_crimes = crimes['Primary Type'].resample('D').count()\n",
    "daily_crimes.sort_index(inplace=True)\n",
    "daily_crimes2016 = daily_crimes['2016']\n",
    "daily_crimes2016.plot()"
   ]
  },
  {
   "cell_type": "markdown",
   "metadata": {},
   "source": [
    "## Pandas data structures\n",
    "\n",
    "Let's explain them on the data we have…\n",
    "\n",
    "### Series\n",
    "\n",
    "Series is a one-dimensional labeled array capable of holding any data type (integers, strings, floating point numbers, Python objects, etc.).\n",
    "\n",
    "So, `crime_types` is a series of strings designating types of crimes and labeled with the crime's time of occurrence."
   ]
  },
  {
   "cell_type": "code",
   "execution_count": 10,
   "metadata": {},
   "outputs": [
    {
     "data": {
      "text/plain": [
       "Date\n",
       "2015-03-18 19:44:00                       BATTERY\n",
       "2015-03-18 23:00:00                 OTHER OFFENSE\n",
       "2015-03-18 22:45:00                       BATTERY\n",
       "2015-03-18 22:30:00                       BATTERY\n",
       "2015-03-18 21:00:00                       ROBBERY\n",
       "2015-03-18 22:00:00                       BATTERY\n",
       "2015-03-18 23:00:00                       BATTERY\n",
       "2015-03-18 21:35:00                       BATTERY\n",
       "2015-03-18 22:09:00                     NARCOTICS\n",
       "2015-03-18 21:25:00                       BATTERY\n",
       "2015-03-18 21:30:00               CRIMINAL DAMAGE\n",
       "2015-03-15 16:10:00                 OTHER OFFENSE\n",
       "2015-03-18 21:14:00             WEAPONS VIOLATION\n",
       "2015-03-18 22:50:00                       BATTERY\n",
       "2015-03-18 22:31:00                         THEFT\n",
       "2015-03-18 12:55:00                      BURGLARY\n",
       "2015-03-18 20:00:00           MOTOR VEHICLE THEFT\n",
       "2015-03-18 21:00:00                         THEFT\n",
       "2015-03-18 22:56:00        PUBLIC PEACE VIOLATION\n",
       "2015-03-18 22:45:00                         THEFT\n",
       "2015-03-18 22:00:00                         THEFT\n",
       "2014-09-01 08:00:00            DECEPTIVE PRACTICE\n",
       "2015-03-18 23:55:00                       ROBBERY\n",
       "2015-03-18 23:40:00                       BATTERY\n",
       "2015-03-18 21:44:00             WEAPONS VIOLATION\n",
       "2015-03-18 23:30:00                       BATTERY\n",
       "2015-03-18 22:45:00                       BATTERY\n",
       "2015-03-18 22:33:00                       ASSAULT\n",
       "2015-03-19 01:20:00                       BATTERY\n",
       "2015-03-18 21:59:00                       BATTERY\n",
       "                                  ...            \n",
       "2004-05-05 11:00:00                      BURGLARY\n",
       "2004-05-05 16:40:00                       BATTERY\n",
       "2009-09-11 18:43:00                       BATTERY\n",
       "2004-05-05 17:56:00                         THEFT\n",
       "2009-08-28 10:00:00                         THEFT\n",
       "2004-05-05 16:55:00                         THEFT\n",
       "2004-05-05 04:57:29               CRIMINAL DAMAGE\n",
       "2004-05-03 13:00:00                         THEFT\n",
       "2004-05-04 12:45:00           MOTOR VEHICLE THEFT\n",
       "2009-09-11 19:20:00                     NARCOTICS\n",
       "2009-09-11 18:10:00                 OTHER OFFENSE\n",
       "2009-09-10 22:00:00               CRIMINAL DAMAGE\n",
       "2004-05-05 15:30:00                         THEFT\n",
       "2009-09-11 17:00:00    OFFENSE INVOLVING CHILDREN\n",
       "2009-09-11 16:17:00                       BATTERY\n",
       "2004-05-03 17:00:00           MOTOR VEHICLE THEFT\n",
       "2004-05-05 20:00:00               CRIMINAL DAMAGE\n",
       "2009-09-11 19:00:00                         THEFT\n",
       "2004-05-04 09:24:22                       BATTERY\n",
       "2004-04-30 05:20:00                       BATTERY\n",
       "2004-05-05 17:00:00                       BATTERY\n",
       "2004-05-05 18:00:00               CRIMINAL DAMAGE\n",
       "2004-05-05 19:26:41                         THEFT\n",
       "2004-05-04 22:43:27               CRIMINAL DAMAGE\n",
       "2004-05-05 23:55:00                         THEFT\n",
       "2004-05-05 21:00:00               CRIMINAL DAMAGE\n",
       "2004-04-30 08:10:00                       ROBBERY\n",
       "2004-05-06 04:53:00               CRIMINAL DAMAGE\n",
       "2004-05-05 16:20:00                       BATTERY\n",
       "2004-05-05 22:00:00                         THEFT\n",
       "Name: Primary Type, dtype: object"
      ]
     },
     "execution_count": 10,
     "metadata": {},
     "output_type": "execute_result"
    }
   ],
   "source": [
    "crime_types = crimes['Primary Type']\n",
    "crime_types"
   ]
  },
  {
   "cell_type": "markdown",
   "metadata": {},
   "source": [
    "On the other hand, `daily_crimes2016` is a series with the number of crimes per day."
   ]
  },
  {
   "cell_type": "code",
   "execution_count": 11,
   "metadata": {},
   "outputs": [
    {
     "data": {
      "text/plain": [
       "Date\n",
       "2016-01-01    727\n",
       "2016-01-02    521\n",
       "2016-01-03    566\n",
       "2016-01-04    585\n",
       "2016-01-05    579\n",
       "2016-01-06    592\n",
       "2016-01-07    652\n",
       "2016-01-08    681\n",
       "2016-01-09    608\n",
       "2016-01-10    549\n",
       "2016-01-11    485\n",
       "2016-01-12    514\n",
       "2016-01-13    609\n",
       "2016-01-14    691\n",
       "2016-01-15    662\n",
       "2016-01-16    598\n",
       "2016-01-17    507\n",
       "2016-01-18    489\n",
       "2016-01-19    578\n",
       "2016-01-20    583\n",
       "2016-01-21    599\n",
       "2016-01-22    660\n",
       "2016-01-23    689\n",
       "2016-01-24    648\n",
       "2016-01-25    702\n",
       "2016-01-26    600\n",
       "2016-01-27    643\n",
       "2016-01-28    694\n",
       "2016-01-29    708\n",
       "2016-01-30    697\n",
       "             ... \n",
       "2016-12-02    724\n",
       "2016-12-03    670\n",
       "2016-12-04    523\n",
       "2016-12-05    597\n",
       "2016-12-06    610\n",
       "2016-12-07    574\n",
       "2016-12-08    545\n",
       "2016-12-09    564\n",
       "2016-12-10    545\n",
       "2016-12-11    434\n",
       "2016-12-12    488\n",
       "2016-12-13    444\n",
       "2016-12-14    485\n",
       "2016-12-15    466\n",
       "2016-12-16    568\n",
       "2016-12-17    529\n",
       "2016-12-18    438\n",
       "2016-12-19    531\n",
       "2016-12-20    490\n",
       "2016-12-21    548\n",
       "2016-12-22    538\n",
       "2016-12-23    550\n",
       "2016-12-24    518\n",
       "2016-12-25    407\n",
       "2016-12-26    569\n",
       "2016-12-27    513\n",
       "2016-12-28    565\n",
       "2016-12-29    412\n",
       "2016-12-30    523\n",
       "2016-12-31    455\n",
       "Freq: D, Name: Primary Type, dtype: int64"
      ]
     },
     "execution_count": 11,
     "metadata": {},
     "output_type": "execute_result"
    }
   ],
   "source": [
    "daily_crimes2016"
   ]
  },
  {
   "cell_type": "markdown",
   "metadata": {},
   "source": [
    "`crime_type` has an index which is a NumPy array"
   ]
  },
  {
   "cell_type": "code",
   "execution_count": 12,
   "metadata": {},
   "outputs": [
    {
     "data": {
      "text/plain": [
       "DatetimeIndex(['2015-03-18 19:44:00', '2015-03-18 23:00:00',\n",
       "               '2015-03-18 22:45:00', '2015-03-18 22:30:00',\n",
       "               '2015-03-18 21:00:00', '2015-03-18 22:00:00',\n",
       "               '2015-03-18 23:00:00', '2015-03-18 21:35:00',\n",
       "               '2015-03-18 22:09:00', '2015-03-18 21:25:00',\n",
       "               ...\n",
       "               '2004-05-05 17:00:00', '2004-05-05 18:00:00',\n",
       "               '2004-05-05 19:26:41', '2004-05-04 22:43:27',\n",
       "               '2004-05-05 23:55:00', '2004-05-05 21:00:00',\n",
       "               '2004-04-30 08:10:00', '2004-05-06 04:53:00',\n",
       "               '2004-05-05 16:20:00', '2004-05-05 22:00:00'],\n",
       "              dtype='datetime64[ns]', name='Date', length=1000000, freq=None)"
      ]
     },
     "execution_count": 12,
     "metadata": {},
     "output_type": "execute_result"
    }
   ],
   "source": [
    "crime_types.index"
   ]
  },
  {
   "cell_type": "markdown",
   "metadata": {},
   "source": [
    "… and and array of values too"
   ]
  },
  {
   "cell_type": "code",
   "execution_count": 13,
   "metadata": {},
   "outputs": [
    {
     "data": {
      "text/plain": [
       "array(['BATTERY', 'OTHER OFFENSE', 'BATTERY', ..., 'CRIMINAL DAMAGE',\n",
       "       'BATTERY', 'THEFT'], dtype=object)"
      ]
     },
     "execution_count": 13,
     "metadata": {},
     "output_type": "execute_result"
    }
   ],
   "source": [
    "crime_types.values"
   ]
  },
  {
   "cell_type": "markdown",
   "metadata": {},
   "source": [
    "Remember, **data alignment is intrinsic**. If we sort the index, values are still correctly matched to corresponding labels."
   ]
  },
  {
   "cell_type": "code",
   "execution_count": 14,
   "metadata": {},
   "outputs": [
    {
     "data": {
      "text/plain": [
       "Date\n",
       "2001-01-01    SEX OFFENSE\n",
       "2001-01-01    SEX OFFENSE\n",
       "2001-01-01    SEX OFFENSE\n",
       "2001-01-01    SEX OFFENSE\n",
       "2001-01-01    SEX OFFENSE\n",
       "Name: Primary Type, dtype: object"
      ]
     },
     "execution_count": 14,
     "metadata": {},
     "output_type": "execute_result"
    }
   ],
   "source": [
    "crime_types.sort_index(ascending=True).head()"
   ]
  },
  {
   "cell_type": "code",
   "execution_count": 15,
   "metadata": {},
   "outputs": [
    {
     "data": {
      "text/plain": [
       "Date\n",
       "2018-04-08 23:50:00    OTHER OFFENSE\n",
       "2018-04-08 23:45:00          ASSAULT\n",
       "2018-04-08 23:33:00        OBSCENITY\n",
       "2018-04-08 23:30:00            THEFT\n",
       "2018-04-08 23:30:00          BATTERY\n",
       "Name: Primary Type, dtype: object"
      ]
     },
     "execution_count": 15,
     "metadata": {},
     "output_type": "execute_result"
    }
   ],
   "source": [
    "crime_types.sort_index(ascending=False).head()"
   ]
  },
  {
   "cell_type": "markdown",
   "metadata": {},
   "source": [
    "### DataFrame\n",
    "\n",
    "A table-like data structure. Essentially the whole crimes object is a DataFrame."
   ]
  },
  {
   "cell_type": "code",
   "execution_count": 16,
   "metadata": {},
   "outputs": [
    {
     "data": {
      "text/html": [
       "<div>\n",
       "<table border=\"1\" class=\"dataframe\">\n",
       "  <thead>\n",
       "    <tr style=\"text-align: right;\">\n",
       "      <th></th>\n",
       "      <th>ID</th>\n",
       "      <th>Case Number</th>\n",
       "      <th>Block</th>\n",
       "      <th>IUCR</th>\n",
       "      <th>Primary Type</th>\n",
       "      <th>Description</th>\n",
       "      <th>Location Description</th>\n",
       "      <th>Arrest</th>\n",
       "      <th>Domestic</th>\n",
       "      <th>Beat</th>\n",
       "      <th>...</th>\n",
       "      <th>Ward</th>\n",
       "      <th>Community Area</th>\n",
       "      <th>FBI Code</th>\n",
       "      <th>X Coordinate</th>\n",
       "      <th>Y Coordinate</th>\n",
       "      <th>Year</th>\n",
       "      <th>Updated On</th>\n",
       "      <th>Latitude</th>\n",
       "      <th>Longitude</th>\n",
       "      <th>Location</th>\n",
       "    </tr>\n",
       "    <tr>\n",
       "      <th>Date</th>\n",
       "      <th></th>\n",
       "      <th></th>\n",
       "      <th></th>\n",
       "      <th></th>\n",
       "      <th></th>\n",
       "      <th></th>\n",
       "      <th></th>\n",
       "      <th></th>\n",
       "      <th></th>\n",
       "      <th></th>\n",
       "      <th></th>\n",
       "      <th></th>\n",
       "      <th></th>\n",
       "      <th></th>\n",
       "      <th></th>\n",
       "      <th></th>\n",
       "      <th></th>\n",
       "      <th></th>\n",
       "      <th></th>\n",
       "      <th></th>\n",
       "      <th></th>\n",
       "    </tr>\n",
       "  </thead>\n",
       "  <tbody>\n",
       "    <tr>\n",
       "      <th>2015-03-18 19:44:00</th>\n",
       "      <td>10000092</td>\n",
       "      <td>HY189866</td>\n",
       "      <td>047XX W OHIO ST</td>\n",
       "      <td>041A</td>\n",
       "      <td>BATTERY</td>\n",
       "      <td>AGGRAVATED: HANDGUN</td>\n",
       "      <td>STREET</td>\n",
       "      <td>False</td>\n",
       "      <td>False</td>\n",
       "      <td>1111</td>\n",
       "      <td>...</td>\n",
       "      <td>28.0</td>\n",
       "      <td>25.0</td>\n",
       "      <td>04B</td>\n",
       "      <td>1144606.0</td>\n",
       "      <td>1903566.0</td>\n",
       "      <td>2015</td>\n",
       "      <td>02/10/2018 03:50:01 PM</td>\n",
       "      <td>41.891399</td>\n",
       "      <td>-87.744385</td>\n",
       "      <td>(41.891398861, -87.744384567)</td>\n",
       "    </tr>\n",
       "    <tr>\n",
       "      <th>2015-03-18 23:00:00</th>\n",
       "      <td>10000094</td>\n",
       "      <td>HY190059</td>\n",
       "      <td>066XX S MARSHFIELD AVE</td>\n",
       "      <td>4625</td>\n",
       "      <td>OTHER OFFENSE</td>\n",
       "      <td>PAROLE VIOLATION</td>\n",
       "      <td>STREET</td>\n",
       "      <td>True</td>\n",
       "      <td>False</td>\n",
       "      <td>725</td>\n",
       "      <td>...</td>\n",
       "      <td>15.0</td>\n",
       "      <td>67.0</td>\n",
       "      <td>26</td>\n",
       "      <td>1166468.0</td>\n",
       "      <td>1860715.0</td>\n",
       "      <td>2015</td>\n",
       "      <td>02/10/2018 03:50:01 PM</td>\n",
       "      <td>41.773372</td>\n",
       "      <td>-87.665319</td>\n",
       "      <td>(41.773371528, -87.665319468)</td>\n",
       "    </tr>\n",
       "    <tr>\n",
       "      <th>2015-03-18 22:45:00</th>\n",
       "      <td>10000095</td>\n",
       "      <td>HY190052</td>\n",
       "      <td>044XX S LAKE PARK AVE</td>\n",
       "      <td>0486</td>\n",
       "      <td>BATTERY</td>\n",
       "      <td>DOMESTIC BATTERY SIMPLE</td>\n",
       "      <td>APARTMENT</td>\n",
       "      <td>False</td>\n",
       "      <td>True</td>\n",
       "      <td>222</td>\n",
       "      <td>...</td>\n",
       "      <td>4.0</td>\n",
       "      <td>39.0</td>\n",
       "      <td>08B</td>\n",
       "      <td>1185075.0</td>\n",
       "      <td>1875622.0</td>\n",
       "      <td>2015</td>\n",
       "      <td>02/10/2018 03:50:01 PM</td>\n",
       "      <td>41.813861</td>\n",
       "      <td>-87.596643</td>\n",
       "      <td>(41.81386068, -87.596642837)</td>\n",
       "    </tr>\n",
       "    <tr>\n",
       "      <th>2015-03-18 22:30:00</th>\n",
       "      <td>10000096</td>\n",
       "      <td>HY190054</td>\n",
       "      <td>051XX S MICHIGAN AVE</td>\n",
       "      <td>0460</td>\n",
       "      <td>BATTERY</td>\n",
       "      <td>SIMPLE</td>\n",
       "      <td>APARTMENT</td>\n",
       "      <td>False</td>\n",
       "      <td>False</td>\n",
       "      <td>225</td>\n",
       "      <td>...</td>\n",
       "      <td>3.0</td>\n",
       "      <td>40.0</td>\n",
       "      <td>08B</td>\n",
       "      <td>1178033.0</td>\n",
       "      <td>1870804.0</td>\n",
       "      <td>2015</td>\n",
       "      <td>02/10/2018 03:50:01 PM</td>\n",
       "      <td>41.800802</td>\n",
       "      <td>-87.622619</td>\n",
       "      <td>(41.800802415, -87.622619343)</td>\n",
       "    </tr>\n",
       "    <tr>\n",
       "      <th>2015-03-18 21:00:00</th>\n",
       "      <td>10000097</td>\n",
       "      <td>HY189976</td>\n",
       "      <td>047XX W ADAMS ST</td>\n",
       "      <td>031A</td>\n",
       "      <td>ROBBERY</td>\n",
       "      <td>ARMED: HANDGUN</td>\n",
       "      <td>SIDEWALK</td>\n",
       "      <td>False</td>\n",
       "      <td>False</td>\n",
       "      <td>1113</td>\n",
       "      <td>...</td>\n",
       "      <td>28.0</td>\n",
       "      <td>25.0</td>\n",
       "      <td>03</td>\n",
       "      <td>1144920.0</td>\n",
       "      <td>1898709.0</td>\n",
       "      <td>2015</td>\n",
       "      <td>02/10/2018 03:50:01 PM</td>\n",
       "      <td>41.878065</td>\n",
       "      <td>-87.743354</td>\n",
       "      <td>(41.878064761, -87.743354013)</td>\n",
       "    </tr>\n",
       "  </tbody>\n",
       "</table>\n",
       "<p>5 rows × 21 columns</p>\n",
       "</div>"
      ],
      "text/plain": [
       "                           ID Case Number                   Block  IUCR  \\\n",
       "Date                                                                      \n",
       "2015-03-18 19:44:00  10000092    HY189866         047XX W OHIO ST  041A   \n",
       "2015-03-18 23:00:00  10000094    HY190059  066XX S MARSHFIELD AVE  4625   \n",
       "2015-03-18 22:45:00  10000095    HY190052   044XX S LAKE PARK AVE  0486   \n",
       "2015-03-18 22:30:00  10000096    HY190054    051XX S MICHIGAN AVE  0460   \n",
       "2015-03-18 21:00:00  10000097    HY189976        047XX W ADAMS ST  031A   \n",
       "\n",
       "                      Primary Type              Description  \\\n",
       "Date                                                          \n",
       "2015-03-18 19:44:00        BATTERY      AGGRAVATED: HANDGUN   \n",
       "2015-03-18 23:00:00  OTHER OFFENSE         PAROLE VIOLATION   \n",
       "2015-03-18 22:45:00        BATTERY  DOMESTIC BATTERY SIMPLE   \n",
       "2015-03-18 22:30:00        BATTERY                   SIMPLE   \n",
       "2015-03-18 21:00:00        ROBBERY           ARMED: HANDGUN   \n",
       "\n",
       "                    Location Description Arrest Domestic  Beat  \\\n",
       "Date                                                             \n",
       "2015-03-18 19:44:00               STREET  False    False  1111   \n",
       "2015-03-18 23:00:00               STREET   True    False   725   \n",
       "2015-03-18 22:45:00            APARTMENT  False     True   222   \n",
       "2015-03-18 22:30:00            APARTMENT  False    False   225   \n",
       "2015-03-18 21:00:00             SIDEWALK  False    False  1113   \n",
       "\n",
       "                                 ...                Ward  Community Area  \\\n",
       "Date                             ...                                       \n",
       "2015-03-18 19:44:00              ...                28.0            25.0   \n",
       "2015-03-18 23:00:00              ...                15.0            67.0   \n",
       "2015-03-18 22:45:00              ...                 4.0            39.0   \n",
       "2015-03-18 22:30:00              ...                 3.0            40.0   \n",
       "2015-03-18 21:00:00              ...                28.0            25.0   \n",
       "\n",
       "                     FBI Code X Coordinate  Y Coordinate  Year  \\\n",
       "Date                                                             \n",
       "2015-03-18 19:44:00       04B    1144606.0     1903566.0  2015   \n",
       "2015-03-18 23:00:00        26    1166468.0     1860715.0  2015   \n",
       "2015-03-18 22:45:00       08B    1185075.0     1875622.0  2015   \n",
       "2015-03-18 22:30:00       08B    1178033.0     1870804.0  2015   \n",
       "2015-03-18 21:00:00        03    1144920.0     1898709.0  2015   \n",
       "\n",
       "                                 Updated On   Latitude  Longitude  \\\n",
       "Date                                                                \n",
       "2015-03-18 19:44:00  02/10/2018 03:50:01 PM  41.891399 -87.744385   \n",
       "2015-03-18 23:00:00  02/10/2018 03:50:01 PM  41.773372 -87.665319   \n",
       "2015-03-18 22:45:00  02/10/2018 03:50:01 PM  41.813861 -87.596643   \n",
       "2015-03-18 22:30:00  02/10/2018 03:50:01 PM  41.800802 -87.622619   \n",
       "2015-03-18 21:00:00  02/10/2018 03:50:01 PM  41.878065 -87.743354   \n",
       "\n",
       "                                          Location  \n",
       "Date                                                \n",
       "2015-03-18 19:44:00  (41.891398861, -87.744384567)  \n",
       "2015-03-18 23:00:00  (41.773371528, -87.665319468)  \n",
       "2015-03-18 22:45:00   (41.81386068, -87.596642837)  \n",
       "2015-03-18 22:30:00  (41.800802415, -87.622619343)  \n",
       "2015-03-18 21:00:00  (41.878064761, -87.743354013)  \n",
       "\n",
       "[5 rows x 21 columns]"
      ]
     },
     "execution_count": 16,
     "metadata": {},
     "output_type": "execute_result"
    }
   ],
   "source": [
    "crimes.head()"
   ]
  },
  {
   "cell_type": "markdown",
   "metadata": {},
   "source": [
    "It also has an index of rows:"
   ]
  },
  {
   "cell_type": "code",
   "execution_count": 17,
   "metadata": {},
   "outputs": [
    {
     "data": {
      "text/plain": [
       "DatetimeIndex(['2015-03-18 19:44:00', '2015-03-18 23:00:00',\n",
       "               '2015-03-18 22:45:00', '2015-03-18 22:30:00',\n",
       "               '2015-03-18 21:00:00', '2015-03-18 22:00:00',\n",
       "               '2015-03-18 23:00:00', '2015-03-18 21:35:00',\n",
       "               '2015-03-18 22:09:00', '2015-03-18 21:25:00',\n",
       "               ...\n",
       "               '2004-05-05 17:00:00', '2004-05-05 18:00:00',\n",
       "               '2004-05-05 19:26:41', '2004-05-04 22:43:27',\n",
       "               '2004-05-05 23:55:00', '2004-05-05 21:00:00',\n",
       "               '2004-04-30 08:10:00', '2004-05-06 04:53:00',\n",
       "               '2004-05-05 16:20:00', '2004-05-05 22:00:00'],\n",
       "              dtype='datetime64[ns]', name='Date', length=1000000, freq=None)"
      ]
     },
     "execution_count": 17,
     "metadata": {},
     "output_type": "execute_result"
    }
   ],
   "source": [
    "crimes.index"
   ]
  },
  {
   "cell_type": "markdown",
   "metadata": {},
   "source": [
    "… but also an index of columns"
   ]
  },
  {
   "cell_type": "code",
   "execution_count": 18,
   "metadata": {},
   "outputs": [
    {
     "data": {
      "text/plain": [
       "Index(['ID', 'Case Number', 'Block', 'IUCR', 'Primary Type', 'Description',\n",
       "       'Location Description', 'Arrest', 'Domestic', 'Beat', 'District',\n",
       "       'Ward', 'Community Area', 'FBI Code', 'X Coordinate', 'Y Coordinate',\n",
       "       'Year', 'Updated On', 'Latitude', 'Longitude', 'Location'],\n",
       "      dtype='object')"
      ]
     },
     "execution_count": 18,
     "metadata": {},
     "output_type": "execute_result"
    }
   ],
   "source": [
    "crimes.columns"
   ]
  },
  {
   "cell_type": "markdown",
   "metadata": {},
   "source": [
    "## Creating pandas objects\n",
    "\n",
    "So far we've only been creating Pandas objects from CSV files using the `pd.read_csv` function, but we can also create new ones from other Python data structures (which will come in handy later when we get to scraping data from the web)."
   ]
  },
  {
   "cell_type": "code",
   "execution_count": 19,
   "metadata": {},
   "outputs": [
    {
     "data": {
      "text/plain": [
       "A    17\n",
       "B     6\n",
       "C     5\n",
       "D     3\n",
       "E    19\n",
       "dtype: int64"
      ]
     },
     "execution_count": 19,
     "metadata": {},
     "output_type": "execute_result"
    }
   ],
   "source": [
    "s = pd.Series({'A': 17, 'B': 6, 'C': 5, 'D': 3, 'E': 19})\n",
    "s"
   ]
  },
  {
   "cell_type": "code",
   "execution_count": 20,
   "metadata": {},
   "outputs": [
    {
     "data": {
      "text/html": [
       "<div>\n",
       "<table border=\"1\" class=\"dataframe\">\n",
       "  <thead>\n",
       "    <tr style=\"text-align: right;\">\n",
       "      <th></th>\n",
       "      <th>age</th>\n",
       "      <th>test</th>\n",
       "    </tr>\n",
       "  </thead>\n",
       "  <tbody>\n",
       "    <tr>\n",
       "      <th>A</th>\n",
       "      <td>17</td>\n",
       "      <td>0.30</td>\n",
       "    </tr>\n",
       "    <tr>\n",
       "      <th>B</th>\n",
       "      <td>6</td>\n",
       "      <td>59.23</td>\n",
       "    </tr>\n",
       "    <tr>\n",
       "      <th>C</th>\n",
       "      <td>5</td>\n",
       "      <td>16.70</td>\n",
       "    </tr>\n",
       "    <tr>\n",
       "      <th>D</th>\n",
       "      <td>3</td>\n",
       "      <td>2.00</td>\n",
       "    </tr>\n",
       "    <tr>\n",
       "      <th>E</th>\n",
       "      <td>19</td>\n",
       "      <td>5.30</td>\n",
       "    </tr>\n",
       "  </tbody>\n",
       "</table>\n",
       "</div>"
      ],
      "text/plain": [
       "   age   test\n",
       "A   17   0.30\n",
       "B    6  59.23\n",
       "C    5  16.70\n",
       "D    3   2.00\n",
       "E   19   5.30"
      ]
     },
     "execution_count": 20,
     "metadata": {},
     "output_type": "execute_result"
    }
   ],
   "source": [
    "df = pd.DataFrame({'age': s, 'test': {'A': 0.3, 'B': 59.23, 'C': 16.7, 'D': 2.0, 'E': 5.3}})\n",
    "df"
   ]
  },
  {
   "cell_type": "markdown",
   "metadata": {},
   "source": [
    "## Selecting values\n",
    "\n",
    "Now let's give a very quick over view of the many ways of data selection in Pandas.\n",
    "\n",
    "### Label-based using `.loc`\n",
    "\n",
    "By single value – this actually returns a series when we select a single column/row in a DataFrame"
   ]
  },
  {
   "cell_type": "code",
   "execution_count": 21,
   "metadata": {},
   "outputs": [
    {
     "data": {
      "text/plain": [
       "age     17.0\n",
       "test     0.3\n",
       "Name: A, dtype: float64"
      ]
     },
     "execution_count": 21,
     "metadata": {},
     "output_type": "execute_result"
    }
   ],
   "source": [
    "df.loc['A']"
   ]
  },
  {
   "cell_type": "markdown",
   "metadata": {},
   "source": [
    "If we're selecting in a Series, we get back a scalar"
   ]
  },
  {
   "cell_type": "code",
   "execution_count": 22,
   "metadata": {},
   "outputs": [
    {
     "data": {
      "text/plain": [
       "17"
      ]
     },
     "execution_count": 22,
     "metadata": {},
     "output_type": "execute_result"
    }
   ],
   "source": [
    "s.loc['A']"
   ]
  },
  {
   "cell_type": "markdown",
   "metadata": {},
   "source": [
    "Or we can select by passing a list of labels to select (which keeps the same dimensionality)"
   ]
  },
  {
   "cell_type": "code",
   "execution_count": 23,
   "metadata": {},
   "outputs": [
    {
     "data": {
      "text/html": [
       "<div>\n",
       "<table border=\"1\" class=\"dataframe\">\n",
       "  <thead>\n",
       "    <tr style=\"text-align: right;\">\n",
       "      <th></th>\n",
       "      <th>age</th>\n",
       "      <th>test</th>\n",
       "    </tr>\n",
       "  </thead>\n",
       "  <tbody>\n",
       "    <tr>\n",
       "      <th>A</th>\n",
       "      <td>17</td>\n",
       "      <td>0.30</td>\n",
       "    </tr>\n",
       "    <tr>\n",
       "      <th>B</th>\n",
       "      <td>6</td>\n",
       "      <td>59.23</td>\n",
       "    </tr>\n",
       "  </tbody>\n",
       "</table>\n",
       "</div>"
      ],
      "text/plain": [
       "   age   test\n",
       "A   17   0.30\n",
       "B    6  59.23"
      ]
     },
     "execution_count": 23,
     "metadata": {},
     "output_type": "execute_result"
    }
   ],
   "source": [
    "# using lists\n",
    "df.loc[['A', 'B']]"
   ]
  },
  {
   "cell_type": "code",
   "execution_count": 24,
   "metadata": {},
   "outputs": [
    {
     "data": {
      "text/plain": [
       "A    17\n",
       "B     6\n",
       "dtype: int64"
      ]
     },
     "execution_count": 24,
     "metadata": {},
     "output_type": "execute_result"
    }
   ],
   "source": [
    "s.loc[['A', 'B']]"
   ]
  },
  {
   "cell_type": "markdown",
   "metadata": {},
   "source": [
    "We can also select columns"
   ]
  },
  {
   "cell_type": "code",
   "execution_count": 25,
   "metadata": {},
   "outputs": [
    {
     "data": {
      "text/html": [
       "<div>\n",
       "<table border=\"1\" class=\"dataframe\">\n",
       "  <thead>\n",
       "    <tr style=\"text-align: right;\">\n",
       "      <th></th>\n",
       "      <th>age</th>\n",
       "    </tr>\n",
       "  </thead>\n",
       "  <tbody>\n",
       "    <tr>\n",
       "      <th>A</th>\n",
       "      <td>17</td>\n",
       "    </tr>\n",
       "    <tr>\n",
       "      <th>B</th>\n",
       "      <td>6</td>\n",
       "    </tr>\n",
       "    <tr>\n",
       "      <th>C</th>\n",
       "      <td>5</td>\n",
       "    </tr>\n",
       "    <tr>\n",
       "      <th>D</th>\n",
       "      <td>3</td>\n",
       "    </tr>\n",
       "    <tr>\n",
       "      <th>E</th>\n",
       "      <td>19</td>\n",
       "    </tr>\n",
       "  </tbody>\n",
       "</table>\n",
       "</div>"
      ],
      "text/plain": [
       "   age\n",
       "A   17\n",
       "B    6\n",
       "C    5\n",
       "D    3\n",
       "E   19"
      ]
     },
     "execution_count": 25,
     "metadata": {},
     "output_type": "execute_result"
    }
   ],
   "source": [
    "df.loc[:, ['age']]"
   ]
  },
  {
   "cell_type": "markdown",
   "metadata": {},
   "source": [
    "… or both by row and column"
   ]
  },
  {
   "cell_type": "code",
   "execution_count": 26,
   "metadata": {},
   "outputs": [
    {
     "data": {
      "text/html": [
       "<div>\n",
       "<table border=\"1\" class=\"dataframe\">\n",
       "  <thead>\n",
       "    <tr style=\"text-align: right;\">\n",
       "      <th></th>\n",
       "      <th>age</th>\n",
       "    </tr>\n",
       "  </thead>\n",
       "  <tbody>\n",
       "    <tr>\n",
       "      <th>A</th>\n",
       "      <td>17</td>\n",
       "    </tr>\n",
       "    <tr>\n",
       "      <th>B</th>\n",
       "      <td>6</td>\n",
       "    </tr>\n",
       "  </tbody>\n",
       "</table>\n",
       "</div>"
      ],
      "text/plain": [
       "   age\n",
       "A   17\n",
       "B    6"
      ]
     },
     "execution_count": 26,
     "metadata": {},
     "output_type": "execute_result"
    }
   ],
   "source": [
    "df.loc[['A','B'], ['age']]"
   ]
  },
  {
   "cell_type": "markdown",
   "metadata": {},
   "source": [
    "Shorthand we've been using already for selecting from the primary index (column for data frames)"
   ]
  },
  {
   "cell_type": "code",
   "execution_count": 27,
   "metadata": {},
   "outputs": [
    {
     "data": {
      "text/plain": [
       "A    17\n",
       "B     6\n",
       "C     5\n",
       "D     3\n",
       "E    19\n",
       "Name: age, dtype: int64"
      ]
     },
     "execution_count": 27,
     "metadata": {},
     "output_type": "execute_result"
    }
   ],
   "source": [
    "df['age']"
   ]
  },
  {
   "cell_type": "markdown",
   "metadata": {},
   "source": [
    "Or even by attribute if the name doesn't contain spaces or doesn't clash with any object method names"
   ]
  },
  {
   "cell_type": "code",
   "execution_count": 28,
   "metadata": {},
   "outputs": [
    {
     "data": {
      "text/plain": [
       "A    17\n",
       "B     6\n",
       "C     5\n",
       "D     3\n",
       "E    19\n",
       "Name: age, dtype: int64"
      ]
     },
     "execution_count": 28,
     "metadata": {},
     "output_type": "execute_result"
    }
   ],
   "source": [
    "df.age"
   ]
  },
  {
   "cell_type": "markdown",
   "metadata": {},
   "source": [
    "### Index-based using `.iloc`\n",
    "\n",
    "To select using index numbers"
   ]
  },
  {
   "cell_type": "code",
   "execution_count": 29,
   "metadata": {},
   "outputs": [
    {
     "data": {
      "text/html": [
       "<div>\n",
       "<table border=\"1\" class=\"dataframe\">\n",
       "  <thead>\n",
       "    <tr style=\"text-align: right;\">\n",
       "      <th></th>\n",
       "      <th>age</th>\n",
       "      <th>test</th>\n",
       "    </tr>\n",
       "  </thead>\n",
       "  <tbody>\n",
       "    <tr>\n",
       "      <th>A</th>\n",
       "      <td>17</td>\n",
       "      <td>0.3</td>\n",
       "    </tr>\n",
       "    <tr>\n",
       "      <th>C</th>\n",
       "      <td>5</td>\n",
       "      <td>16.7</td>\n",
       "    </tr>\n",
       "    <tr>\n",
       "      <th>D</th>\n",
       "      <td>3</td>\n",
       "      <td>2.0</td>\n",
       "    </tr>\n",
       "  </tbody>\n",
       "</table>\n",
       "</div>"
      ],
      "text/plain": [
       "   age  test\n",
       "A   17   0.3\n",
       "C    5  16.7\n",
       "D    3   2.0"
      ]
     },
     "execution_count": 29,
     "metadata": {},
     "output_type": "execute_result"
    }
   ],
   "source": [
    "df.iloc[[0, 2, 3]]"
   ]
  },
  {
   "cell_type": "code",
   "execution_count": 30,
   "metadata": {
    "scrolled": true
   },
   "outputs": [
    {
     "data": {
      "text/html": [
       "<div>\n",
       "<table border=\"1\" class=\"dataframe\">\n",
       "  <thead>\n",
       "    <tr style=\"text-align: right;\">\n",
       "      <th></th>\n",
       "      <th>Description</th>\n",
       "    </tr>\n",
       "    <tr>\n",
       "      <th>Date</th>\n",
       "      <th></th>\n",
       "    </tr>\n",
       "  </thead>\n",
       "  <tbody>\n",
       "    <tr>\n",
       "      <th>2015-03-18 19:44:00</th>\n",
       "      <td>AGGRAVATED: HANDGUN</td>\n",
       "    </tr>\n",
       "    <tr>\n",
       "      <th>2015-03-18 23:00:00</th>\n",
       "      <td>PAROLE VIOLATION</td>\n",
       "    </tr>\n",
       "    <tr>\n",
       "      <th>2015-03-18 22:45:00</th>\n",
       "      <td>DOMESTIC BATTERY SIMPLE</td>\n",
       "    </tr>\n",
       "    <tr>\n",
       "      <th>2015-03-18 22:30:00</th>\n",
       "      <td>SIMPLE</td>\n",
       "    </tr>\n",
       "    <tr>\n",
       "      <th>2015-03-18 21:00:00</th>\n",
       "      <td>ARMED: HANDGUN</td>\n",
       "    </tr>\n",
       "    <tr>\n",
       "      <th>2015-03-18 22:00:00</th>\n",
       "      <td>SIMPLE</td>\n",
       "    </tr>\n",
       "    <tr>\n",
       "      <th>2015-03-18 23:00:00</th>\n",
       "      <td>DOMESTIC BATTERY SIMPLE</td>\n",
       "    </tr>\n",
       "    <tr>\n",
       "      <th>2015-03-18 21:35:00</th>\n",
       "      <td>DOMESTIC BATTERY SIMPLE</td>\n",
       "    </tr>\n",
       "    <tr>\n",
       "      <th>2015-03-18 22:09:00</th>\n",
       "      <td>POSS: CANNABIS 30GMS OR LESS</td>\n",
       "    </tr>\n",
       "    <tr>\n",
       "      <th>2015-03-18 21:25:00</th>\n",
       "      <td>SIMPLE</td>\n",
       "    </tr>\n",
       "  </tbody>\n",
       "</table>\n",
       "</div>"
      ],
      "text/plain": [
       "                                      Description\n",
       "Date                                             \n",
       "2015-03-18 19:44:00           AGGRAVATED: HANDGUN\n",
       "2015-03-18 23:00:00              PAROLE VIOLATION\n",
       "2015-03-18 22:45:00       DOMESTIC BATTERY SIMPLE\n",
       "2015-03-18 22:30:00                        SIMPLE\n",
       "2015-03-18 21:00:00                ARMED: HANDGUN\n",
       "2015-03-18 22:00:00                        SIMPLE\n",
       "2015-03-18 23:00:00       DOMESTIC BATTERY SIMPLE\n",
       "2015-03-18 21:35:00       DOMESTIC BATTERY SIMPLE\n",
       "2015-03-18 22:09:00  POSS: CANNABIS 30GMS OR LESS\n",
       "2015-03-18 21:25:00                        SIMPLE"
      ]
     },
     "execution_count": 30,
     "metadata": {},
     "output_type": "execute_result"
    }
   ],
   "source": [
    "crimes.iloc[:10, [5]]"
   ]
  },
  {
   "cell_type": "markdown",
   "metadata": {},
   "source": [
    "### Slicing\n",
    "\n",
    "Selecting by using ranges"
   ]
  },
  {
   "cell_type": "code",
   "execution_count": 31,
   "metadata": {},
   "outputs": [
    {
     "data": {
      "text/html": [
       "<div>\n",
       "<table border=\"1\" class=\"dataframe\">\n",
       "  <thead>\n",
       "    <tr style=\"text-align: right;\">\n",
       "      <th></th>\n",
       "      <th>age</th>\n",
       "      <th>test</th>\n",
       "    </tr>\n",
       "  </thead>\n",
       "  <tbody>\n",
       "    <tr>\n",
       "      <th>C</th>\n",
       "      <td>5</td>\n",
       "      <td>16.7</td>\n",
       "    </tr>\n",
       "    <tr>\n",
       "      <th>D</th>\n",
       "      <td>3</td>\n",
       "      <td>2.0</td>\n",
       "    </tr>\n",
       "    <tr>\n",
       "      <th>E</th>\n",
       "      <td>19</td>\n",
       "      <td>5.3</td>\n",
       "    </tr>\n",
       "  </tbody>\n",
       "</table>\n",
       "</div>"
      ],
      "text/plain": [
       "   age  test\n",
       "C    5  16.7\n",
       "D    3   2.0\n",
       "E   19   5.3"
      ]
     },
     "execution_count": 31,
     "metadata": {},
     "output_type": "execute_result"
    }
   ],
   "source": [
    "df.iloc[2:5]"
   ]
  },
  {
   "cell_type": "markdown",
   "metadata": {},
   "source": [
    "Or for short"
   ]
  },
  {
   "cell_type": "code",
   "execution_count": 32,
   "metadata": {},
   "outputs": [
    {
     "data": {
      "text/html": [
       "<div>\n",
       "<table border=\"1\" class=\"dataframe\">\n",
       "  <thead>\n",
       "    <tr style=\"text-align: right;\">\n",
       "      <th></th>\n",
       "      <th>age</th>\n",
       "      <th>test</th>\n",
       "    </tr>\n",
       "  </thead>\n",
       "  <tbody>\n",
       "    <tr>\n",
       "      <th>C</th>\n",
       "      <td>5</td>\n",
       "      <td>16.7</td>\n",
       "    </tr>\n",
       "    <tr>\n",
       "      <th>D</th>\n",
       "      <td>3</td>\n",
       "      <td>2.0</td>\n",
       "    </tr>\n",
       "    <tr>\n",
       "      <th>E</th>\n",
       "      <td>19</td>\n",
       "      <td>5.3</td>\n",
       "    </tr>\n",
       "  </tbody>\n",
       "</table>\n",
       "</div>"
      ],
      "text/plain": [
       "   age  test\n",
       "C    5  16.7\n",
       "D    3   2.0\n",
       "E   19   5.3"
      ]
     },
     "execution_count": 32,
     "metadata": {},
     "output_type": "execute_result"
    }
   ],
   "source": [
    "df[2:5]"
   ]
  },
  {
   "cell_type": "markdown",
   "metadata": {},
   "source": [
    "And an awesome feature – slicing is datetime-aware"
   ]
  },
  {
   "cell_type": "code",
   "execution_count": 33,
   "metadata": {},
   "outputs": [
    {
     "data": {
      "text/plain": [
       "Date\n",
       "2016-03-01    627\n",
       "2016-03-02    519\n",
       "2016-03-03    539\n",
       "2016-03-04    611\n",
       "2016-03-05    629\n",
       "Freq: D, Name: Primary Type, dtype: int64"
      ]
     },
     "execution_count": 33,
     "metadata": {},
     "output_type": "execute_result"
    }
   ],
   "source": [
    "daily_crimes2016['2016-03-01':].head()"
   ]
  },
  {
   "cell_type": "markdown",
   "metadata": {},
   "source": [
    "### Boolean indexing\n",
    "\n",
    "Filter based on boolean expressions. Any expression that returns boolean values…"
   ]
  },
  {
   "cell_type": "code",
   "execution_count": 34,
   "metadata": {},
   "outputs": [
    {
     "data": {
      "text/plain": [
       "Date\n",
       "2016-01-01     True\n",
       "2016-01-02     True\n",
       "2016-01-03     True\n",
       "2016-01-04     True\n",
       "2016-01-05     True\n",
       "2016-01-06     True\n",
       "2016-01-07     True\n",
       "2016-01-08     True\n",
       "2016-01-09     True\n",
       "2016-01-10     True\n",
       "2016-01-11    False\n",
       "2016-01-12     True\n",
       "2016-01-13     True\n",
       "2016-01-14     True\n",
       "2016-01-15     True\n",
       "2016-01-16     True\n",
       "2016-01-17     True\n",
       "2016-01-18    False\n",
       "2016-01-19     True\n",
       "2016-01-20     True\n",
       "2016-01-21     True\n",
       "2016-01-22     True\n",
       "2016-01-23     True\n",
       "2016-01-24     True\n",
       "2016-01-25     True\n",
       "2016-01-26     True\n",
       "2016-01-27     True\n",
       "2016-01-28     True\n",
       "2016-01-29     True\n",
       "2016-01-30     True\n",
       "              ...  \n",
       "2016-12-02     True\n",
       "2016-12-03     True\n",
       "2016-12-04     True\n",
       "2016-12-05     True\n",
       "2016-12-06     True\n",
       "2016-12-07     True\n",
       "2016-12-08     True\n",
       "2016-12-09     True\n",
       "2016-12-10     True\n",
       "2016-12-11    False\n",
       "2016-12-12    False\n",
       "2016-12-13    False\n",
       "2016-12-14    False\n",
       "2016-12-15    False\n",
       "2016-12-16     True\n",
       "2016-12-17     True\n",
       "2016-12-18    False\n",
       "2016-12-19     True\n",
       "2016-12-20    False\n",
       "2016-12-21     True\n",
       "2016-12-22     True\n",
       "2016-12-23     True\n",
       "2016-12-24     True\n",
       "2016-12-25    False\n",
       "2016-12-26     True\n",
       "2016-12-27     True\n",
       "2016-12-28     True\n",
       "2016-12-29    False\n",
       "2016-12-30     True\n",
       "2016-12-31    False\n",
       "Freq: D, Name: Primary Type, dtype: bool"
      ]
     },
     "execution_count": 34,
     "metadata": {},
     "output_type": "execute_result"
    }
   ],
   "source": [
    "daily_crimes2016 > 500"
   ]
  },
  {
   "cell_type": "markdown",
   "metadata": {},
   "source": [
    "… can also be used to index values where the boolean expression yields true."
   ]
  },
  {
   "cell_type": "code",
   "execution_count": 35,
   "metadata": {},
   "outputs": [
    {
     "data": {
      "text/plain": [
       "350"
      ]
     },
     "execution_count": 35,
     "metadata": {},
     "output_type": "execute_result"
    }
   ],
   "source": [
    "daily_crimes2016[daily_crimes2016 > 500].count()"
   ]
  },
  {
   "cell_type": "markdown",
   "metadata": {},
   "source": [
    "You can also combine expressions using boolean operators `&`, `|`, `!`"
   ]
  },
  {
   "cell_type": "code",
   "execution_count": 36,
   "metadata": {},
   "outputs": [
    {
     "data": {
      "text/plain": [
       "41"
      ]
     },
     "execution_count": 36,
     "metadata": {},
     "output_type": "execute_result"
    }
   ],
   "source": [
    "daily_crimes2016[(daily_crimes2016 > 550) & (daily_crimes2016 < 600)].count()"
   ]
  },
  {
   "cell_type": "markdown",
   "metadata": {},
   "source": [
    "## Reshaping\n",
    "\n",
    "The input data format is often not the most useful for actually processing and visualising the information we're most interested in. Pandas' offers many useful methods for reshaping the data:\n",
    "\n",
    "- `pivot_table` – select exactly the rows/columns you want\n",
    "- `stack` / `unstack` – append to the index, adding more levels of a hierarchical MultiIndex\n",
    "- `groupby` – similar to the SQL `Group By` command\n",
    "- `resample` – like `groupby`, but for creating groups from time intervals (hours, days, weeks, etc.)\n",
    "\n",
    "There are lots of operations you can express using these commands – see more documentation on them [here](https://pandas.pydata.org/pandas-docs/stable/reshaping.html)."
   ]
  },
  {
   "cell_type": "code",
   "execution_count": 37,
   "metadata": {},
   "outputs": [
    {
     "data": {
      "text/html": [
       "<div>\n",
       "<table border=\"1\" class=\"dataframe\">\n",
       "  <thead>\n",
       "    <tr style=\"text-align: right;\">\n",
       "      <th></th>\n",
       "      <th></th>\n",
       "      <th>ID</th>\n",
       "      <th>Case Number</th>\n",
       "      <th>Block</th>\n",
       "      <th>IUCR</th>\n",
       "      <th>Description</th>\n",
       "      <th>Location Description</th>\n",
       "      <th>Arrest</th>\n",
       "      <th>Domestic</th>\n",
       "      <th>Beat</th>\n",
       "      <th>District</th>\n",
       "      <th>Ward</th>\n",
       "      <th>Community Area</th>\n",
       "      <th>FBI Code</th>\n",
       "      <th>X Coordinate</th>\n",
       "      <th>Y Coordinate</th>\n",
       "      <th>Year</th>\n",
       "      <th>Updated On</th>\n",
       "      <th>Latitude</th>\n",
       "      <th>Longitude</th>\n",
       "      <th>Location</th>\n",
       "    </tr>\n",
       "    <tr>\n",
       "      <th>Date</th>\n",
       "      <th>Primary Type</th>\n",
       "      <th></th>\n",
       "      <th></th>\n",
       "      <th></th>\n",
       "      <th></th>\n",
       "      <th></th>\n",
       "      <th></th>\n",
       "      <th></th>\n",
       "      <th></th>\n",
       "      <th></th>\n",
       "      <th></th>\n",
       "      <th></th>\n",
       "      <th></th>\n",
       "      <th></th>\n",
       "      <th></th>\n",
       "      <th></th>\n",
       "      <th></th>\n",
       "      <th></th>\n",
       "      <th></th>\n",
       "      <th></th>\n",
       "      <th></th>\n",
       "    </tr>\n",
       "  </thead>\n",
       "  <tbody>\n",
       "    <tr>\n",
       "      <th>2015-03-18 19:44:00</th>\n",
       "      <th>BATTERY</th>\n",
       "      <td>10000092</td>\n",
       "      <td>HY189866</td>\n",
       "      <td>047XX W OHIO ST</td>\n",
       "      <td>041A</td>\n",
       "      <td>AGGRAVATED: HANDGUN</td>\n",
       "      <td>STREET</td>\n",
       "      <td>False</td>\n",
       "      <td>False</td>\n",
       "      <td>1111</td>\n",
       "      <td>11</td>\n",
       "      <td>28</td>\n",
       "      <td>25</td>\n",
       "      <td>04B</td>\n",
       "      <td>1144606</td>\n",
       "      <td>1903566</td>\n",
       "      <td>2015</td>\n",
       "      <td>02/10/2018 03:50:01 PM</td>\n",
       "      <td>41.891399</td>\n",
       "      <td>-87.744385</td>\n",
       "      <td>(41.891398861, -87.744384567)</td>\n",
       "    </tr>\n",
       "    <tr>\n",
       "      <th>2015-03-18 23:00:00</th>\n",
       "      <th>OTHER OFFENSE</th>\n",
       "      <td>10000094</td>\n",
       "      <td>HY190059</td>\n",
       "      <td>066XX S MARSHFIELD AVE</td>\n",
       "      <td>4625</td>\n",
       "      <td>PAROLE VIOLATION</td>\n",
       "      <td>STREET</td>\n",
       "      <td>True</td>\n",
       "      <td>False</td>\n",
       "      <td>725</td>\n",
       "      <td>7</td>\n",
       "      <td>15</td>\n",
       "      <td>67</td>\n",
       "      <td>26</td>\n",
       "      <td>1166468</td>\n",
       "      <td>1860715</td>\n",
       "      <td>2015</td>\n",
       "      <td>02/10/2018 03:50:01 PM</td>\n",
       "      <td>41.773372</td>\n",
       "      <td>-87.665319</td>\n",
       "      <td>(41.773371528, -87.665319468)</td>\n",
       "    </tr>\n",
       "    <tr>\n",
       "      <th>2015-03-18 22:45:00</th>\n",
       "      <th>BATTERY</th>\n",
       "      <td>10000095</td>\n",
       "      <td>HY190052</td>\n",
       "      <td>044XX S LAKE PARK AVE</td>\n",
       "      <td>0486</td>\n",
       "      <td>DOMESTIC BATTERY SIMPLE</td>\n",
       "      <td>APARTMENT</td>\n",
       "      <td>False</td>\n",
       "      <td>True</td>\n",
       "      <td>222</td>\n",
       "      <td>2</td>\n",
       "      <td>4</td>\n",
       "      <td>39</td>\n",
       "      <td>08B</td>\n",
       "      <td>1185075</td>\n",
       "      <td>1875622</td>\n",
       "      <td>2015</td>\n",
       "      <td>02/10/2018 03:50:01 PM</td>\n",
       "      <td>41.813861</td>\n",
       "      <td>-87.596643</td>\n",
       "      <td>(41.81386068, -87.596642837)</td>\n",
       "    </tr>\n",
       "    <tr>\n",
       "      <th>2015-03-18 22:30:00</th>\n",
       "      <th>BATTERY</th>\n",
       "      <td>10000096</td>\n",
       "      <td>HY190054</td>\n",
       "      <td>051XX S MICHIGAN AVE</td>\n",
       "      <td>0460</td>\n",
       "      <td>SIMPLE</td>\n",
       "      <td>APARTMENT</td>\n",
       "      <td>False</td>\n",
       "      <td>False</td>\n",
       "      <td>225</td>\n",
       "      <td>2</td>\n",
       "      <td>3</td>\n",
       "      <td>40</td>\n",
       "      <td>08B</td>\n",
       "      <td>1178033</td>\n",
       "      <td>1870804</td>\n",
       "      <td>2015</td>\n",
       "      <td>02/10/2018 03:50:01 PM</td>\n",
       "      <td>41.800802</td>\n",
       "      <td>-87.622619</td>\n",
       "      <td>(41.800802415, -87.622619343)</td>\n",
       "    </tr>\n",
       "    <tr>\n",
       "      <th>2015-03-18 21:00:00</th>\n",
       "      <th>ROBBERY</th>\n",
       "      <td>10000097</td>\n",
       "      <td>HY189976</td>\n",
       "      <td>047XX W ADAMS ST</td>\n",
       "      <td>031A</td>\n",
       "      <td>ARMED: HANDGUN</td>\n",
       "      <td>SIDEWALK</td>\n",
       "      <td>False</td>\n",
       "      <td>False</td>\n",
       "      <td>1113</td>\n",
       "      <td>11</td>\n",
       "      <td>28</td>\n",
       "      <td>25</td>\n",
       "      <td>03</td>\n",
       "      <td>1144920</td>\n",
       "      <td>1898709</td>\n",
       "      <td>2015</td>\n",
       "      <td>02/10/2018 03:50:01 PM</td>\n",
       "      <td>41.878065</td>\n",
       "      <td>-87.743354</td>\n",
       "      <td>(41.878064761, -87.743354013)</td>\n",
       "    </tr>\n",
       "    <tr>\n",
       "      <th>2015-03-18 22:00:00</th>\n",
       "      <th>BATTERY</th>\n",
       "      <td>10000098</td>\n",
       "      <td>HY190032</td>\n",
       "      <td>049XX S DREXEL BLVD</td>\n",
       "      <td>0460</td>\n",
       "      <td>SIMPLE</td>\n",
       "      <td>APARTMENT</td>\n",
       "      <td>False</td>\n",
       "      <td>False</td>\n",
       "      <td>223</td>\n",
       "      <td>2</td>\n",
       "      <td>4</td>\n",
       "      <td>39</td>\n",
       "      <td>08B</td>\n",
       "      <td>1183018</td>\n",
       "      <td>1872537</td>\n",
       "      <td>2015</td>\n",
       "      <td>02/10/2018 03:50:01 PM</td>\n",
       "      <td>41.805443</td>\n",
       "      <td>-87.604284</td>\n",
       "      <td>(41.805443345, -87.604283976)</td>\n",
       "    </tr>\n",
       "    <tr>\n",
       "      <th>2015-03-18 23:00:00</th>\n",
       "      <th>BATTERY</th>\n",
       "      <td>10000099</td>\n",
       "      <td>HY190047</td>\n",
       "      <td>070XX S MORGAN ST</td>\n",
       "      <td>0486</td>\n",
       "      <td>DOMESTIC BATTERY SIMPLE</td>\n",
       "      <td>APARTMENT</td>\n",
       "      <td>False</td>\n",
       "      <td>True</td>\n",
       "      <td>733</td>\n",
       "      <td>7</td>\n",
       "      <td>17</td>\n",
       "      <td>68</td>\n",
       "      <td>08B</td>\n",
       "      <td>1170859</td>\n",
       "      <td>1858210</td>\n",
       "      <td>2015</td>\n",
       "      <td>02/10/2018 03:50:01 PM</td>\n",
       "      <td>41.766403</td>\n",
       "      <td>-87.649296</td>\n",
       "      <td>(41.766402779, -87.649296123)</td>\n",
       "    </tr>\n",
       "    <tr>\n",
       "      <th>2015-03-18 21:35:00</th>\n",
       "      <th>BATTERY</th>\n",
       "      <td>10000100</td>\n",
       "      <td>HY189988</td>\n",
       "      <td>042XX S PRAIRIE AVE</td>\n",
       "      <td>0486</td>\n",
       "      <td>DOMESTIC BATTERY SIMPLE</td>\n",
       "      <td>APARTMENT</td>\n",
       "      <td>False</td>\n",
       "      <td>True</td>\n",
       "      <td>213</td>\n",
       "      <td>2</td>\n",
       "      <td>3</td>\n",
       "      <td>38</td>\n",
       "      <td>08B</td>\n",
       "      <td>1178746</td>\n",
       "      <td>1876914</td>\n",
       "      <td>2015</td>\n",
       "      <td>02/10/2018 03:50:01 PM</td>\n",
       "      <td>41.817553</td>\n",
       "      <td>-87.619819</td>\n",
       "      <td>(41.817552577, -87.619818523)</td>\n",
       "    </tr>\n",
       "    <tr>\n",
       "      <th>2015-03-18 22:09:00</th>\n",
       "      <th>NARCOTICS</th>\n",
       "      <td>10000101</td>\n",
       "      <td>HY190020</td>\n",
       "      <td>036XX S WOLCOTT AVE</td>\n",
       "      <td>1811</td>\n",
       "      <td>POSS: CANNABIS 30GMS OR LESS</td>\n",
       "      <td>STREET</td>\n",
       "      <td>True</td>\n",
       "      <td>False</td>\n",
       "      <td>912</td>\n",
       "      <td>9</td>\n",
       "      <td>11</td>\n",
       "      <td>59</td>\n",
       "      <td>18</td>\n",
       "      <td>1164279</td>\n",
       "      <td>1880656</td>\n",
       "      <td>2015</td>\n",
       "      <td>02/10/2018 03:50:01 PM</td>\n",
       "      <td>41.828138</td>\n",
       "      <td>-87.672782</td>\n",
       "      <td>(41.828138428, -87.672782106)</td>\n",
       "    </tr>\n",
       "  </tbody>\n",
       "</table>\n",
       "</div>"
      ],
      "text/plain": [
       "                                         ID Case Number  \\\n",
       "Date                Primary Type                          \n",
       "2015-03-18 19:44:00 BATTERY        10000092    HY189866   \n",
       "2015-03-18 23:00:00 OTHER OFFENSE  10000094    HY190059   \n",
       "2015-03-18 22:45:00 BATTERY        10000095    HY190052   \n",
       "2015-03-18 22:30:00 BATTERY        10000096    HY190054   \n",
       "2015-03-18 21:00:00 ROBBERY        10000097    HY189976   \n",
       "2015-03-18 22:00:00 BATTERY        10000098    HY190032   \n",
       "2015-03-18 23:00:00 BATTERY        10000099    HY190047   \n",
       "2015-03-18 21:35:00 BATTERY        10000100    HY189988   \n",
       "2015-03-18 22:09:00 NARCOTICS      10000101    HY190020   \n",
       "\n",
       "                                                    Block  IUCR  \\\n",
       "Date                Primary Type                                  \n",
       "2015-03-18 19:44:00 BATTERY               047XX W OHIO ST  041A   \n",
       "2015-03-18 23:00:00 OTHER OFFENSE  066XX S MARSHFIELD AVE  4625   \n",
       "2015-03-18 22:45:00 BATTERY         044XX S LAKE PARK AVE  0486   \n",
       "2015-03-18 22:30:00 BATTERY          051XX S MICHIGAN AVE  0460   \n",
       "2015-03-18 21:00:00 ROBBERY              047XX W ADAMS ST  031A   \n",
       "2015-03-18 22:00:00 BATTERY           049XX S DREXEL BLVD  0460   \n",
       "2015-03-18 23:00:00 BATTERY             070XX S MORGAN ST  0486   \n",
       "2015-03-18 21:35:00 BATTERY           042XX S PRAIRIE AVE  0486   \n",
       "2015-03-18 22:09:00 NARCOTICS         036XX S WOLCOTT AVE  1811   \n",
       "\n",
       "                                                    Description  \\\n",
       "Date                Primary Type                                  \n",
       "2015-03-18 19:44:00 BATTERY                 AGGRAVATED: HANDGUN   \n",
       "2015-03-18 23:00:00 OTHER OFFENSE              PAROLE VIOLATION   \n",
       "2015-03-18 22:45:00 BATTERY             DOMESTIC BATTERY SIMPLE   \n",
       "2015-03-18 22:30:00 BATTERY                              SIMPLE   \n",
       "2015-03-18 21:00:00 ROBBERY                      ARMED: HANDGUN   \n",
       "2015-03-18 22:00:00 BATTERY                              SIMPLE   \n",
       "2015-03-18 23:00:00 BATTERY             DOMESTIC BATTERY SIMPLE   \n",
       "2015-03-18 21:35:00 BATTERY             DOMESTIC BATTERY SIMPLE   \n",
       "2015-03-18 22:09:00 NARCOTICS      POSS: CANNABIS 30GMS OR LESS   \n",
       "\n",
       "                                  Location Description Arrest Domestic  Beat  \\\n",
       "Date                Primary Type                                               \n",
       "2015-03-18 19:44:00 BATTERY                     STREET  False    False  1111   \n",
       "2015-03-18 23:00:00 OTHER OFFENSE               STREET   True    False   725   \n",
       "2015-03-18 22:45:00 BATTERY                  APARTMENT  False     True   222   \n",
       "2015-03-18 22:30:00 BATTERY                  APARTMENT  False    False   225   \n",
       "2015-03-18 21:00:00 ROBBERY                   SIDEWALK  False    False  1113   \n",
       "2015-03-18 22:00:00 BATTERY                  APARTMENT  False    False   223   \n",
       "2015-03-18 23:00:00 BATTERY                  APARTMENT  False     True   733   \n",
       "2015-03-18 21:35:00 BATTERY                  APARTMENT  False     True   213   \n",
       "2015-03-18 22:09:00 NARCOTICS                   STREET   True    False   912   \n",
       "\n",
       "                                   District  Ward  Community Area FBI Code  \\\n",
       "Date                Primary Type                                             \n",
       "2015-03-18 19:44:00 BATTERY              11    28              25      04B   \n",
       "2015-03-18 23:00:00 OTHER OFFENSE         7    15              67       26   \n",
       "2015-03-18 22:45:00 BATTERY               2     4              39      08B   \n",
       "2015-03-18 22:30:00 BATTERY               2     3              40      08B   \n",
       "2015-03-18 21:00:00 ROBBERY              11    28              25       03   \n",
       "2015-03-18 22:00:00 BATTERY               2     4              39      08B   \n",
       "2015-03-18 23:00:00 BATTERY               7    17              68      08B   \n",
       "2015-03-18 21:35:00 BATTERY               2     3              38      08B   \n",
       "2015-03-18 22:09:00 NARCOTICS             9    11              59       18   \n",
       "\n",
       "                                   X Coordinate  Y Coordinate  Year  \\\n",
       "Date                Primary Type                                      \n",
       "2015-03-18 19:44:00 BATTERY             1144606       1903566  2015   \n",
       "2015-03-18 23:00:00 OTHER OFFENSE       1166468       1860715  2015   \n",
       "2015-03-18 22:45:00 BATTERY             1185075       1875622  2015   \n",
       "2015-03-18 22:30:00 BATTERY             1178033       1870804  2015   \n",
       "2015-03-18 21:00:00 ROBBERY             1144920       1898709  2015   \n",
       "2015-03-18 22:00:00 BATTERY             1183018       1872537  2015   \n",
       "2015-03-18 23:00:00 BATTERY             1170859       1858210  2015   \n",
       "2015-03-18 21:35:00 BATTERY             1178746       1876914  2015   \n",
       "2015-03-18 22:09:00 NARCOTICS           1164279       1880656  2015   \n",
       "\n",
       "                                               Updated On   Latitude  \\\n",
       "Date                Primary Type                                       \n",
       "2015-03-18 19:44:00 BATTERY        02/10/2018 03:50:01 PM  41.891399   \n",
       "2015-03-18 23:00:00 OTHER OFFENSE  02/10/2018 03:50:01 PM  41.773372   \n",
       "2015-03-18 22:45:00 BATTERY        02/10/2018 03:50:01 PM  41.813861   \n",
       "2015-03-18 22:30:00 BATTERY        02/10/2018 03:50:01 PM  41.800802   \n",
       "2015-03-18 21:00:00 ROBBERY        02/10/2018 03:50:01 PM  41.878065   \n",
       "2015-03-18 22:00:00 BATTERY        02/10/2018 03:50:01 PM  41.805443   \n",
       "2015-03-18 23:00:00 BATTERY        02/10/2018 03:50:01 PM  41.766403   \n",
       "2015-03-18 21:35:00 BATTERY        02/10/2018 03:50:01 PM  41.817553   \n",
       "2015-03-18 22:09:00 NARCOTICS      02/10/2018 03:50:01 PM  41.828138   \n",
       "\n",
       "                                   Longitude                       Location  \n",
       "Date                Primary Type                                             \n",
       "2015-03-18 19:44:00 BATTERY       -87.744385  (41.891398861, -87.744384567)  \n",
       "2015-03-18 23:00:00 OTHER OFFENSE -87.665319  (41.773371528, -87.665319468)  \n",
       "2015-03-18 22:45:00 BATTERY       -87.596643   (41.81386068, -87.596642837)  \n",
       "2015-03-18 22:30:00 BATTERY       -87.622619  (41.800802415, -87.622619343)  \n",
       "2015-03-18 21:00:00 ROBBERY       -87.743354  (41.878064761, -87.743354013)  \n",
       "2015-03-18 22:00:00 BATTERY       -87.604284  (41.805443345, -87.604283976)  \n",
       "2015-03-18 23:00:00 BATTERY       -87.649296  (41.766402779, -87.649296123)  \n",
       "2015-03-18 21:35:00 BATTERY       -87.619819  (41.817552577, -87.619818523)  \n",
       "2015-03-18 22:09:00 NARCOTICS     -87.672782  (41.828138428, -87.672782106)  "
      ]
     },
     "execution_count": 37,
     "metadata": {},
     "output_type": "execute_result"
    }
   ],
   "source": [
    "crimes_small_mi = crimes_small.set_index(['Primary Type'], append=True)\n",
    "crimes_small_mi"
   ]
  },
  {
   "cell_type": "code",
   "execution_count": 38,
   "metadata": {},
   "outputs": [
    {
     "data": {
      "text/html": [
       "<div>\n",
       "<table border=\"1\" class=\"dataframe\">\n",
       "  <thead>\n",
       "    <tr style=\"text-align: right;\">\n",
       "      <th>Primary Type</th>\n",
       "      <th>BATTERY</th>\n",
       "      <th>NARCOTICS</th>\n",
       "      <th>OTHER OFFENSE</th>\n",
       "      <th>ROBBERY</th>\n",
       "    </tr>\n",
       "    <tr>\n",
       "      <th>Date</th>\n",
       "      <th></th>\n",
       "      <th></th>\n",
       "      <th></th>\n",
       "      <th></th>\n",
       "    </tr>\n",
       "  </thead>\n",
       "  <tbody>\n",
       "    <tr>\n",
       "      <th>2015-03-18 19:00:00</th>\n",
       "      <td>1</td>\n",
       "      <td>0</td>\n",
       "      <td>0</td>\n",
       "      <td>0</td>\n",
       "    </tr>\n",
       "    <tr>\n",
       "      <th>2015-03-18 20:00:00</th>\n",
       "      <td>0</td>\n",
       "      <td>0</td>\n",
       "      <td>0</td>\n",
       "      <td>0</td>\n",
       "    </tr>\n",
       "    <tr>\n",
       "      <th>2015-03-18 21:00:00</th>\n",
       "      <td>1</td>\n",
       "      <td>0</td>\n",
       "      <td>0</td>\n",
       "      <td>1</td>\n",
       "    </tr>\n",
       "    <tr>\n",
       "      <th>2015-03-18 22:00:00</th>\n",
       "      <td>3</td>\n",
       "      <td>1</td>\n",
       "      <td>0</td>\n",
       "      <td>0</td>\n",
       "    </tr>\n",
       "    <tr>\n",
       "      <th>2015-03-18 23:00:00</th>\n",
       "      <td>1</td>\n",
       "      <td>0</td>\n",
       "      <td>1</td>\n",
       "      <td>0</td>\n",
       "    </tr>\n",
       "  </tbody>\n",
       "</table>\n",
       "</div>"
      ],
      "text/plain": [
       "Primary Type         BATTERY  NARCOTICS  OTHER OFFENSE  ROBBERY\n",
       "Date                                                           \n",
       "2015-03-18 19:00:00        1          0              0        0\n",
       "2015-03-18 20:00:00        0          0              0        0\n",
       "2015-03-18 21:00:00        1          0              0        1\n",
       "2015-03-18 22:00:00        3          1              0        0\n",
       "2015-03-18 23:00:00        1          0              1        0"
      ]
     },
     "execution_count": 38,
     "metadata": {},
     "output_type": "execute_result"
    }
   ],
   "source": [
    "crimes_small_mi.ID.unstack(level=1).resample('h').count()#.plot()"
   ]
  },
  {
   "cell_type": "markdown",
   "metadata": {},
   "source": [
    "Now let's do this for the big dataset"
   ]
  },
  {
   "cell_type": "code",
   "execution_count": 39,
   "metadata": {},
   "outputs": [],
   "source": [
    "crimes_mi = crimes.set_index(['Primary Type'], append=True)"
   ]
  },
  {
   "cell_type": "markdown",
   "metadata": {},
   "source": [
    "But turns out the same command we used before would yield a `ValueError: Index contains duplicate entries, cannot reshape`"
   ]
  },
  {
   "cell_type": "code",
   "execution_count": 40,
   "metadata": {},
   "outputs": [],
   "source": [
    "#crimes_mi.ID.unstack(level=1).resample('h').count().plot()"
   ]
  },
  {
   "cell_type": "markdown",
   "metadata": {},
   "source": [
    "Opps, it seems there are duplicates – the same crime noted under the same minute. Let's see if we can sum those up first…"
   ]
  },
  {
   "cell_type": "code",
   "execution_count": 41,
   "metadata": {},
   "outputs": [
    {
     "data": {
      "text/plain": [
       "Date                 Primary Type              \n",
       "2001-01-01 00:00:00  CRIM SEXUAL ASSAULT            8\n",
       "                     DECEPTIVE PRACTICE             1\n",
       "                     OFFENSE INVOLVING CHILDREN    11\n",
       "                     SEX OFFENSE                   37\n",
       "                     THEFT                         18\n",
       "2001-01-01 00:01:00  CRIM SEXUAL ASSAULT            5\n",
       "                     DECEPTIVE PRACTICE             3\n",
       "                     OFFENSE INVOLVING CHILDREN     9\n",
       "                     OTHER OFFENSE                  1\n",
       "                     SEX OFFENSE                    5\n",
       "                     THEFT                         14\n",
       "2001-01-01 01:00:00  OFFENSE INVOLVING CHILDREN     1\n",
       "2001-01-01 08:00:00  OFFENSE INVOLVING CHILDREN     2\n",
       "                     THEFT                          3\n",
       "2001-01-01 09:00:00  CRIM SEXUAL ASSAULT            1\n",
       "                     DECEPTIVE PRACTICE             1\n",
       "                     OFFENSE INVOLVING CHILDREN     1\n",
       "                     THEFT                         13\n",
       "2001-01-01 10:40:00  HOMICIDE                       1\n",
       "2001-01-01 11:00:00  CRIM SEXUAL ASSAULT            1\n",
       "2001-01-01 12:00:00  CRIM SEXUAL ASSAULT            1\n",
       "                     DECEPTIVE PRACTICE             4\n",
       "                     OFFENSE INVOLVING CHILDREN     1\n",
       "                     THEFT                          5\n",
       "2001-01-01 13:00:00  THEFT                          2\n",
       "2001-01-01 14:00:00  THEFT                          1\n",
       "2001-01-01 15:00:00  SEX OFFENSE                    1\n",
       "                     THEFT                          1\n",
       "2001-01-01 15:10:00  HOMICIDE                       1\n",
       "2001-01-01 22:00:00  SEX OFFENSE                    1\n",
       "                                                   ..\n",
       "2018-04-08 22:18:00  WEAPONS VIOLATION              1\n",
       "2018-04-08 22:27:00  BATTERY                        1\n",
       "2018-04-08 22:30:00  BATTERY                        3\n",
       "                     MOTOR VEHICLE THEFT            1\n",
       "                     ROBBERY                        2\n",
       "2018-04-08 22:44:00  NARCOTICS                      1\n",
       "2018-04-08 22:45:00  BATTERY                        1\n",
       "2018-04-08 22:46:00  ASSAULT                        1\n",
       "2018-04-08 22:48:00  BATTERY                        1\n",
       "2018-04-08 22:50:00  CRIMINAL DAMAGE                1\n",
       "2018-04-08 22:52:00  MOTOR VEHICLE THEFT            1\n",
       "2018-04-08 22:55:00  THEFT                          1\n",
       "2018-04-08 23:00:00  BATTERY                        1\n",
       "                     BURGLARY                       1\n",
       "                     DECEPTIVE PRACTICE             1\n",
       "                     THEFT                          4\n",
       "2018-04-08 23:01:00  BATTERY                        1\n",
       "2018-04-08 23:04:00  BURGLARY                       1\n",
       "2018-04-08 23:05:00  OFFENSE INVOLVING CHILDREN     1\n",
       "2018-04-08 23:06:00  BATTERY                        1\n",
       "2018-04-08 23:07:00  BATTERY                        1\n",
       "2018-04-08 23:10:00  ASSAULT                        1\n",
       "                     THEFT                          1\n",
       "2018-04-08 23:16:00  BATTERY                        1\n",
       "2018-04-08 23:24:00  CRIMINAL DAMAGE                1\n",
       "2018-04-08 23:30:00  BATTERY                        2\n",
       "                     THEFT                          1\n",
       "2018-04-08 23:33:00  OBSCENITY                      1\n",
       "2018-04-08 23:45:00  ASSAULT                        1\n",
       "2018-04-08 23:50:00  OTHER OFFENSE                  1\n",
       "Name: ocurrences, dtype: int64"
      ]
     },
     "execution_count": 41,
     "metadata": {},
     "output_type": "execute_result"
    }
   ],
   "source": [
    "crimes_mi['ocurrences'] = np.ones(len(crimes_mi), dtype=int)\n",
    "crimes_grouped = crimes_mi.ocurrences.groupby(level=[0,1]).sum()\n",
    "crimes_grouped"
   ]
  },
  {
   "cell_type": "code",
   "execution_count": 42,
   "metadata": {},
   "outputs": [
    {
     "data": {
      "text/html": [
       "<div>\n",
       "<table border=\"1\" class=\"dataframe\">\n",
       "  <thead>\n",
       "    <tr style=\"text-align: right;\">\n",
       "      <th>Primary Type</th>\n",
       "      <th>ARSON</th>\n",
       "      <th>ASSAULT</th>\n",
       "      <th>BATTERY</th>\n",
       "      <th>BURGLARY</th>\n",
       "      <th>CONCEALED CARRY LICENSE VIOLATION</th>\n",
       "      <th>CRIM SEXUAL ASSAULT</th>\n",
       "      <th>CRIMINAL DAMAGE</th>\n",
       "      <th>CRIMINAL TRESPASS</th>\n",
       "      <th>DECEPTIVE PRACTICE</th>\n",
       "      <th>GAMBLING</th>\n",
       "      <th>...</th>\n",
       "      <th>OTHER OFFENSE</th>\n",
       "      <th>PROSTITUTION</th>\n",
       "      <th>PUBLIC INDECENCY</th>\n",
       "      <th>PUBLIC PEACE VIOLATION</th>\n",
       "      <th>RITUALISM</th>\n",
       "      <th>ROBBERY</th>\n",
       "      <th>SEX OFFENSE</th>\n",
       "      <th>STALKING</th>\n",
       "      <th>THEFT</th>\n",
       "      <th>WEAPONS VIOLATION</th>\n",
       "    </tr>\n",
       "    <tr>\n",
       "      <th>Date</th>\n",
       "      <th></th>\n",
       "      <th></th>\n",
       "      <th></th>\n",
       "      <th></th>\n",
       "      <th></th>\n",
       "      <th></th>\n",
       "      <th></th>\n",
       "      <th></th>\n",
       "      <th></th>\n",
       "      <th></th>\n",
       "      <th></th>\n",
       "      <th></th>\n",
       "      <th></th>\n",
       "      <th></th>\n",
       "      <th></th>\n",
       "      <th></th>\n",
       "      <th></th>\n",
       "      <th></th>\n",
       "      <th></th>\n",
       "      <th></th>\n",
       "      <th></th>\n",
       "    </tr>\n",
       "  </thead>\n",
       "  <tbody>\n",
       "    <tr>\n",
       "      <th>2001-01-01 00:00:00</th>\n",
       "      <td>0</td>\n",
       "      <td>0</td>\n",
       "      <td>0</td>\n",
       "      <td>0</td>\n",
       "      <td>0</td>\n",
       "      <td>13</td>\n",
       "      <td>0</td>\n",
       "      <td>0</td>\n",
       "      <td>4</td>\n",
       "      <td>0</td>\n",
       "      <td>...</td>\n",
       "      <td>1</td>\n",
       "      <td>0</td>\n",
       "      <td>0</td>\n",
       "      <td>0</td>\n",
       "      <td>0</td>\n",
       "      <td>0</td>\n",
       "      <td>42</td>\n",
       "      <td>0</td>\n",
       "      <td>32</td>\n",
       "      <td>0</td>\n",
       "    </tr>\n",
       "    <tr>\n",
       "      <th>2001-01-01 01:00:00</th>\n",
       "      <td>0</td>\n",
       "      <td>0</td>\n",
       "      <td>0</td>\n",
       "      <td>0</td>\n",
       "      <td>0</td>\n",
       "      <td>0</td>\n",
       "      <td>0</td>\n",
       "      <td>0</td>\n",
       "      <td>0</td>\n",
       "      <td>0</td>\n",
       "      <td>...</td>\n",
       "      <td>0</td>\n",
       "      <td>0</td>\n",
       "      <td>0</td>\n",
       "      <td>0</td>\n",
       "      <td>0</td>\n",
       "      <td>0</td>\n",
       "      <td>0</td>\n",
       "      <td>0</td>\n",
       "      <td>0</td>\n",
       "      <td>0</td>\n",
       "    </tr>\n",
       "    <tr>\n",
       "      <th>2001-01-01 02:00:00</th>\n",
       "      <td>0</td>\n",
       "      <td>0</td>\n",
       "      <td>0</td>\n",
       "      <td>0</td>\n",
       "      <td>0</td>\n",
       "      <td>0</td>\n",
       "      <td>0</td>\n",
       "      <td>0</td>\n",
       "      <td>0</td>\n",
       "      <td>0</td>\n",
       "      <td>...</td>\n",
       "      <td>0</td>\n",
       "      <td>0</td>\n",
       "      <td>0</td>\n",
       "      <td>0</td>\n",
       "      <td>0</td>\n",
       "      <td>0</td>\n",
       "      <td>0</td>\n",
       "      <td>0</td>\n",
       "      <td>0</td>\n",
       "      <td>0</td>\n",
       "    </tr>\n",
       "    <tr>\n",
       "      <th>2001-01-01 03:00:00</th>\n",
       "      <td>0</td>\n",
       "      <td>0</td>\n",
       "      <td>0</td>\n",
       "      <td>0</td>\n",
       "      <td>0</td>\n",
       "      <td>0</td>\n",
       "      <td>0</td>\n",
       "      <td>0</td>\n",
       "      <td>0</td>\n",
       "      <td>0</td>\n",
       "      <td>...</td>\n",
       "      <td>0</td>\n",
       "      <td>0</td>\n",
       "      <td>0</td>\n",
       "      <td>0</td>\n",
       "      <td>0</td>\n",
       "      <td>0</td>\n",
       "      <td>0</td>\n",
       "      <td>0</td>\n",
       "      <td>0</td>\n",
       "      <td>0</td>\n",
       "    </tr>\n",
       "    <tr>\n",
       "      <th>2001-01-01 04:00:00</th>\n",
       "      <td>0</td>\n",
       "      <td>0</td>\n",
       "      <td>0</td>\n",
       "      <td>0</td>\n",
       "      <td>0</td>\n",
       "      <td>0</td>\n",
       "      <td>0</td>\n",
       "      <td>0</td>\n",
       "      <td>0</td>\n",
       "      <td>0</td>\n",
       "      <td>...</td>\n",
       "      <td>0</td>\n",
       "      <td>0</td>\n",
       "      <td>0</td>\n",
       "      <td>0</td>\n",
       "      <td>0</td>\n",
       "      <td>0</td>\n",
       "      <td>0</td>\n",
       "      <td>0</td>\n",
       "      <td>0</td>\n",
       "      <td>0</td>\n",
       "    </tr>\n",
       "  </tbody>\n",
       "</table>\n",
       "<p>5 rows × 34 columns</p>\n",
       "</div>"
      ],
      "text/plain": [
       "Primary Type         ARSON  ASSAULT  BATTERY  BURGLARY  \\\n",
       "Date                                                     \n",
       "2001-01-01 00:00:00      0        0        0         0   \n",
       "2001-01-01 01:00:00      0        0        0         0   \n",
       "2001-01-01 02:00:00      0        0        0         0   \n",
       "2001-01-01 03:00:00      0        0        0         0   \n",
       "2001-01-01 04:00:00      0        0        0         0   \n",
       "\n",
       "Primary Type         CONCEALED CARRY LICENSE VIOLATION  CRIM SEXUAL ASSAULT  \\\n",
       "Date                                                                          \n",
       "2001-01-01 00:00:00                                  0                   13   \n",
       "2001-01-01 01:00:00                                  0                    0   \n",
       "2001-01-01 02:00:00                                  0                    0   \n",
       "2001-01-01 03:00:00                                  0                    0   \n",
       "2001-01-01 04:00:00                                  0                    0   \n",
       "\n",
       "Primary Type         CRIMINAL DAMAGE  CRIMINAL TRESPASS  DECEPTIVE PRACTICE  \\\n",
       "Date                                                                          \n",
       "2001-01-01 00:00:00                0                  0                   4   \n",
       "2001-01-01 01:00:00                0                  0                   0   \n",
       "2001-01-01 02:00:00                0                  0                   0   \n",
       "2001-01-01 03:00:00                0                  0                   0   \n",
       "2001-01-01 04:00:00                0                  0                   0   \n",
       "\n",
       "Primary Type         GAMBLING        ...          OTHER OFFENSE  PROSTITUTION  \\\n",
       "Date                                 ...                                        \n",
       "2001-01-01 00:00:00         0        ...                      1             0   \n",
       "2001-01-01 01:00:00         0        ...                      0             0   \n",
       "2001-01-01 02:00:00         0        ...                      0             0   \n",
       "2001-01-01 03:00:00         0        ...                      0             0   \n",
       "2001-01-01 04:00:00         0        ...                      0             0   \n",
       "\n",
       "Primary Type         PUBLIC INDECENCY  PUBLIC PEACE VIOLATION  RITUALISM  \\\n",
       "Date                                                                       \n",
       "2001-01-01 00:00:00                 0                       0          0   \n",
       "2001-01-01 01:00:00                 0                       0          0   \n",
       "2001-01-01 02:00:00                 0                       0          0   \n",
       "2001-01-01 03:00:00                 0                       0          0   \n",
       "2001-01-01 04:00:00                 0                       0          0   \n",
       "\n",
       "Primary Type         ROBBERY  SEX OFFENSE  STALKING  THEFT  WEAPONS VIOLATION  \n",
       "Date                                                                           \n",
       "2001-01-01 00:00:00        0           42         0     32                  0  \n",
       "2001-01-01 01:00:00        0            0         0      0                  0  \n",
       "2001-01-01 02:00:00        0            0         0      0                  0  \n",
       "2001-01-01 03:00:00        0            0         0      0                  0  \n",
       "2001-01-01 04:00:00        0            0         0      0                  0  \n",
       "\n",
       "[5 rows x 34 columns]"
      ]
     },
     "execution_count": 42,
     "metadata": {},
     "output_type": "execute_result"
    }
   ],
   "source": [
    "crimes_by_type = crimes_grouped.unstack(level=1).fillna(0).resample('h').sum().fillna(0).astype(int)\n",
    "crimes_by_type.head()"
   ]
  },
  {
   "cell_type": "code",
   "execution_count": 43,
   "metadata": {},
   "outputs": [
    {
     "data": {
      "text/plain": [
       "<matplotlib.axes._subplots.AxesSubplot at 0x7f5972f18160>"
      ]
     },
     "execution_count": 43,
     "metadata": {},
     "output_type": "execute_result"
    },
    {
     "data": {
      "image/png": "[encoded data removed]",
      "text/plain": [
       "<matplotlib.figure.Figure at 0x7f596fe86fd0>"
      ]
     },
     "metadata": {},
     "output_type": "display_data"
    }
   ],
   "source": [
    "crimes_by_type.loc[:, ['THEFT', 'HOMICIDE', 'ASSAULT']]['2016'].resample('D').sum().plot()"
   ]
  },
  {
   "cell_type": "markdown",
   "metadata": {},
   "source": [
    "## Create an interactive widget\n",
    "\n",
    "Just a taste – see [the docs](https://ipywidgets.readthedocs.io/en/latest/index.html) for more options."
   ]
  },
  {
   "cell_type": "code",
   "execution_count": 44,
   "metadata": {},
   "outputs": [],
   "source": [
    "from ipywidgets import interact"
   ]
  },
  {
   "cell_type": "code",
   "execution_count": 45,
   "metadata": {},
   "outputs": [
    {
     "data": {
      "application/vnd.jupyter.widget-view+json": {
       "model_id": "4c61088506204b518d6eaffa49fe5006",
       "version_major": 2,
       "version_minor": 0
      },
      "text/html": [
       "<p>Failed to display Jupyter Widget of type <code>interactive</code>.</p>\n",
       "<p>\n",
       "  If you're reading this message in the Jupyter Notebook or JupyterLab Notebook, it may mean\n",
       "  that the widgets JavaScript is still loading. If this message persists, it\n",
       "  likely means that the widgets JavaScript library is either not installed or\n",
       "  not enabled. See the <a href=\"https://ipywidgets.readthedocs.io/en/stable/user_install.html\">Jupyter\n",
       "  Widgets Documentation</a> for setup instructions.\n",
       "</p>\n",
       "<p>\n",
       "  If you're reading this message in another frontend (for example, a static\n",
       "  rendering on GitHub or <a href=\"https://nbviewer.jupyter.org/\">NBViewer</a>),\n",
       "  it may mean that your frontend doesn't currently support widgets.\n",
       "</p>\n"
      ],
      "text/plain": [
       "interactive(children=(Dropdown(description='crime_type', index=32, options=('ARSON', 'ASSAULT', 'BATTERY', 'BURGLARY', 'CONCEALED CARRY LICENSE VIOLATION', 'CRIM SEXUAL ASSAULT', 'CRIMINAL DAMAGE', 'CRIMINAL TRESPASS', 'DECEPTIVE PRACTICE', 'GAMBLING', 'HOMICIDE', 'HUMAN TRAFFICKING', 'INTERFERENCE WITH PUBLIC OFFICER', 'INTIMIDATION', 'KIDNAPPING', 'LIQUOR LAW VIOLATION', 'MOTOR VEHICLE THEFT', 'NARCOTICS', 'NON - CRIMINAL', 'NON-CRIMINAL', 'NON-CRIMINAL (SUBJECT SPECIFIED)', 'OBSCENITY', 'OFFENSE INVOLVING CHILDREN', 'OTHER NARCOTIC VIOLATION', 'OTHER OFFENSE', 'PROSTITUTION', 'PUBLIC INDECENCY', 'PUBLIC PEACE VIOLATION', 'RITUALISM', 'ROBBERY', 'SEX OFFENSE', 'STALKING', 'THEFT', 'WEAPONS VIOLATION'), value='THEFT'), Output()), _dom_classes=('widget-interact',))"
      ]
     },
     "metadata": {},
     "output_type": "display_data"
    }
   ],
   "source": [
    "@interact(crime_type = crimes_by_type.columns)\n",
    "def plot_chart(crime_type='THEFT'):\n",
    "    crimes_by_type.loc[:, crime_type]['2016'].resample('D').sum().plot(title=crime_type)"
   ]
  }
 ],
 "metadata": {
  "kernelspec": {
   "display_name": "Python 3",
   "language": "python",
   "name": "python3"
  },
  "language_info": {
   "codemirror_mode": {
    "name": "ipython",
    "version": 3
   },
   "file_extension": ".py",
   "mimetype": "text/x-python",
   "name": "python",
   "nbconvert_exporter": "python",
   "pygments_lexer": "ipython3",
   "version": "3.6.3"
  }
 },
 "nbformat": 4,
 "nbformat_minor": 2
}
